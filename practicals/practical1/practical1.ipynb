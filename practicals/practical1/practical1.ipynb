{
 "cells": [
  {
   "cell_type": "markdown",
   "metadata": {
    "deletable": true,
    "editable": true
   },
   "source": [
    "## Practical 1: word2vec\n",
    "<p>Oxford CS - Deep NLP 2017<br>\n",
    "https://www.cs.ox.ac.uk/teaching/courses/2016-2017/dl/</p>\n",
    "<p>[Yannis Assael, Brendan Shillingford, Chris Dyer]</p>"
   ]
  },
  {
   "cell_type": "markdown",
   "metadata": {
    "deletable": true,
    "editable": true
   },
   "source": [
    "This practical is presented as an IPython Notebook, with the code written for recent versions of **Python 3**. The code in this practical will not work with Python 2 unless you modify it. If you are using your own Python installation, ensure you have a setup identical to that described in the installation shell script (which is intended for use with the department lab machines). We will be unable to support installation on personal machines due to time constraints, so please use the lab machines and the setup script if you are unfamiliar with how to install Anaconda.\n",
    "\n",
    "To execute a notebook cell, press `shift-enter`. The return value of the last command will be displayed, if it is not `None`.\n",
    "\n",
    "Potentially useful library documentation, references, and resources:\n",
    "\n",
    "* IPython notebooks: <https://ipython.org/ipython-doc/3/notebook/notebook.html#introduction>\n",
    "* Numpy numerical array library: <https://docs.scipy.org/doc/>\n",
    "* Gensim's word2vec: <https://radimrehurek.com/gensim/models/word2vec.html>\n",
    "* Bokeh interactive plots: <http://bokeh.pydata.org/en/latest/> (we provide plotting code here, but click the thumbnails for more examples to copy-paste)\n",
    "* scikit-learn ML library (aka `sklearn`): <http://scikit-learn.org/stable/documentation.html>\n",
    "* nltk NLP toolkit: <http://www.nltk.org/>\n",
    "* tutorial for processing xml in python using `lxml`: <http://lxml.de/tutorial.html> (we did this for you below, but in case you need it in the future)"
   ]
  },
  {
   "cell_type": "code",
   "execution_count": 1,
   "metadata": {
    "collapsed": false,
    "deletable": true,
    "editable": true
   },
   "outputs": [],
   "source": [
    "import numpy as np\n",
    "import os\n",
    "from random import shuffle\n",
    "import re"
   ]
  },
  {
   "cell_type": "code",
   "execution_count": 2,
   "metadata": {
    "collapsed": false,
    "deletable": true,
    "editable": true
   },
   "outputs": [
    {
     "data": {
      "text/html": [
       "\n",
       "    <div class=\"bk-root\">\n",
       "        <a href=\"http://bokeh.pydata.org\" target=\"_blank\" class=\"bk-logo bk-logo-small bk-logo-notebook\"></a>\n",
       "        <span id=\"df5594b4-9ed3-476b-8b72-27f838bfc640\">Loading BokehJS ...</span>\n",
       "    </div>"
      ]
     },
     "metadata": {},
     "output_type": "display_data"
    },
    {
     "data": {
      "application/javascript": [
       "\n",
       "(function(global) {\n",
       "  function now() {\n",
       "    return new Date();\n",
       "  }\n",
       "\n",
       "  var force = true;\n",
       "\n",
       "  if (typeof (window._bokeh_onload_callbacks) === \"undefined\" || force === true) {\n",
       "    window._bokeh_onload_callbacks = [];\n",
       "    window._bokeh_is_loading = undefined;\n",
       "  }\n",
       "\n",
       "\n",
       "  \n",
       "  if (typeof (window._bokeh_timeout) === \"undefined\" || force === true) {\n",
       "    window._bokeh_timeout = Date.now() + 5000;\n",
       "    window._bokeh_failed_load = false;\n",
       "  }\n",
       "\n",
       "  var NB_LOAD_WARNING = {'data': {'text/html':\n",
       "     \"<div style='background-color: #fdd'>\\n\"+\n",
       "     \"<p>\\n\"+\n",
       "     \"BokehJS does not appear to have successfully loaded. If loading BokehJS from CDN, this \\n\"+\n",
       "     \"may be due to a slow or bad network connection. Possible fixes:\\n\"+\n",
       "     \"</p>\\n\"+\n",
       "     \"<ul>\\n\"+\n",
       "     \"<li>re-rerun `output_notebook()` to attempt to load from CDN again, or</li>\\n\"+\n",
       "     \"<li>use INLINE resources instead, as so:</li>\\n\"+\n",
       "     \"</ul>\\n\"+\n",
       "     \"<code>\\n\"+\n",
       "     \"from bokeh.resources import INLINE\\n\"+\n",
       "     \"output_notebook(resources=INLINE)\\n\"+\n",
       "     \"</code>\\n\"+\n",
       "     \"</div>\"}};\n",
       "\n",
       "  function display_loaded() {\n",
       "    if (window.Bokeh !== undefined) {\n",
       "      document.getElementById(\"df5594b4-9ed3-476b-8b72-27f838bfc640\").textContent = \"BokehJS successfully loaded.\";\n",
       "    } else if (Date.now() < window._bokeh_timeout) {\n",
       "      setTimeout(display_loaded, 100)\n",
       "    }\n",
       "  }\n",
       "\n",
       "  function run_callbacks() {\n",
       "    window._bokeh_onload_callbacks.forEach(function(callback) { callback() });\n",
       "    delete window._bokeh_onload_callbacks\n",
       "    console.info(\"Bokeh: all callbacks have finished\");\n",
       "  }\n",
       "\n",
       "  function load_libs(js_urls, callback) {\n",
       "    window._bokeh_onload_callbacks.push(callback);\n",
       "    if (window._bokeh_is_loading > 0) {\n",
       "      console.log(\"Bokeh: BokehJS is being loaded, scheduling callback at\", now());\n",
       "      return null;\n",
       "    }\n",
       "    if (js_urls == null || js_urls.length === 0) {\n",
       "      run_callbacks();\n",
       "      return null;\n",
       "    }\n",
       "    console.log(\"Bokeh: BokehJS not loaded, scheduling load and callback at\", now());\n",
       "    window._bokeh_is_loading = js_urls.length;\n",
       "    for (var i = 0; i < js_urls.length; i++) {\n",
       "      var url = js_urls[i];\n",
       "      var s = document.createElement('script');\n",
       "      s.src = url;\n",
       "      s.async = false;\n",
       "      s.onreadystatechange = s.onload = function() {\n",
       "        window._bokeh_is_loading--;\n",
       "        if (window._bokeh_is_loading === 0) {\n",
       "          console.log(\"Bokeh: all BokehJS libraries loaded\");\n",
       "          run_callbacks()\n",
       "        }\n",
       "      };\n",
       "      s.onerror = function() {\n",
       "        console.warn(\"failed to load library \" + url);\n",
       "      };\n",
       "      console.log(\"Bokeh: injecting script tag for BokehJS library: \", url);\n",
       "      document.getElementsByTagName(\"head\")[0].appendChild(s);\n",
       "    }\n",
       "  };var element = document.getElementById(\"df5594b4-9ed3-476b-8b72-27f838bfc640\");\n",
       "  if (element == null) {\n",
       "    console.log(\"Bokeh: ERROR: autoload.js configured with elementid 'df5594b4-9ed3-476b-8b72-27f838bfc640' but no matching script tag was found. \")\n",
       "    return false;\n",
       "  }\n",
       "\n",
       "  var js_urls = [\"https://cdn.pydata.org/bokeh/release/bokeh-0.12.4.min.js\", \"https://cdn.pydata.org/bokeh/release/bokeh-widgets-0.12.4.min.js\"];\n",
       "\n",
       "  var inline_js = [\n",
       "    function(Bokeh) {\n",
       "      Bokeh.set_log_level(\"info\");\n",
       "    },\n",
       "    \n",
       "    function(Bokeh) {\n",
       "      \n",
       "      document.getElementById(\"df5594b4-9ed3-476b-8b72-27f838bfc640\").textContent = \"BokehJS is loading...\";\n",
       "    },\n",
       "    function(Bokeh) {\n",
       "      console.log(\"Bokeh: injecting CSS: https://cdn.pydata.org/bokeh/release/bokeh-0.12.4.min.css\");\n",
       "      Bokeh.embed.inject_css(\"https://cdn.pydata.org/bokeh/release/bokeh-0.12.4.min.css\");\n",
       "      console.log(\"Bokeh: injecting CSS: https://cdn.pydata.org/bokeh/release/bokeh-widgets-0.12.4.min.css\");\n",
       "      Bokeh.embed.inject_css(\"https://cdn.pydata.org/bokeh/release/bokeh-widgets-0.12.4.min.css\");\n",
       "    }\n",
       "  ];\n",
       "\n",
       "  function run_inline_js() {\n",
       "    \n",
       "    if ((window.Bokeh !== undefined) || (force === true)) {\n",
       "      for (var i = 0; i < inline_js.length; i++) {\n",
       "        inline_js[i](window.Bokeh);\n",
       "      }if (force === true) {\n",
       "        display_loaded();\n",
       "      }} else if (Date.now() < window._bokeh_timeout) {\n",
       "      setTimeout(run_inline_js, 100);\n",
       "    } else if (!window._bokeh_failed_load) {\n",
       "      console.log(\"Bokeh: BokehJS failed to load within specified timeout.\");\n",
       "      window._bokeh_failed_load = true;\n",
       "    } else if (force !== true) {\n",
       "      var cell = $(document.getElementById(\"df5594b4-9ed3-476b-8b72-27f838bfc640\")).parents('.cell').data().cell;\n",
       "      cell.output_area.append_execute_result(NB_LOAD_WARNING)\n",
       "    }\n",
       "\n",
       "  }\n",
       "\n",
       "  if (window._bokeh_is_loading === 0) {\n",
       "    console.log(\"Bokeh: BokehJS loaded, going straight to plotting\");\n",
       "    run_inline_js();\n",
       "  } else {\n",
       "    load_libs(js_urls, function() {\n",
       "      console.log(\"Bokeh: BokehJS plotting callback run at\", now());\n",
       "      run_inline_js();\n",
       "    });\n",
       "  }\n",
       "}(this));"
      ]
     },
     "metadata": {},
     "output_type": "display_data"
    }
   ],
   "source": [
    "from bokeh.models import ColumnDataSource, LabelSet\n",
    "from bokeh.plotting import figure, show, output_file\n",
    "from bokeh.io import output_notebook\n",
    "output_notebook()"
   ]
  },
  {
   "cell_type": "markdown",
   "metadata": {
    "deletable": true,
    "editable": true
   },
   "source": [
    "### Part 0: Download the TED dataset"
   ]
  },
  {
   "cell_type": "code",
   "execution_count": 3,
   "metadata": {
    "collapsed": false,
    "deletable": true,
    "editable": true
   },
   "outputs": [],
   "source": [
    "import urllib.request\n",
    "import zipfile\n",
    "import lxml.etree"
   ]
  },
  {
   "cell_type": "code",
   "execution_count": 4,
   "metadata": {
    "collapsed": false,
    "deletable": true,
    "editable": true
   },
   "outputs": [],
   "source": [
    "# Download the dataset if it's not already there: this may take a minute as it is 75MB\n",
    "if not os.path.isfile('ted_en-20160408.zip'):\n",
    "    urllib.request.urlretrieve(\"https://wit3.fbk.eu/get.php?path=XML_releases/xml/ted_en-20160408.zip&filename=ted_en-20160408.zip\", filename=\"ted_en-20160408.zip\")"
   ]
  },
  {
   "cell_type": "code",
   "execution_count": 5,
   "metadata": {
    "collapsed": true,
    "deletable": true,
    "editable": true
   },
   "outputs": [],
   "source": [
    "# For now, we're only interested in the subtitle text, so let's extract that from the XML:\n",
    "with zipfile.ZipFile('ted_en-20160408.zip', 'r') as z:\n",
    "    doc = lxml.etree.parse(z.open('ted_en-20160408.xml', 'r'))\n",
    "input_text = '\\n'.join(doc.xpath('//content/text()'))\n",
    "del doc"
   ]
  },
  {
   "cell_type": "markdown",
   "metadata": {
    "deletable": true,
    "editable": true
   },
   "source": [
    "### Part 1: Preprocessing\n",
    "\n",
    "In this part, we attempt to clean up the raw subtitles a bit, so that we get only sentences. The following substring shows examples of what we're trying to get rid of. Since it's hard to define precisely what we want to get rid of, we'll just use some simple heuristics."
   ]
  },
  {
   "cell_type": "code",
   "execution_count": 6,
   "metadata": {
    "collapsed": false,
    "deletable": true,
    "editable": true,
    "scrolled": false
   },
   "outputs": [
    {
     "data": {
      "text/plain": [
       "' baby does.\\n(Video) Hyowon Gweon: See this? (Ball squeaks) Did you see that? (Ball squeaks) Cool. See this one? (Ball squeaks) Wow.\\nLaura Schulz: Told you. (Laughs)\\n(Vide'"
      ]
     },
     "execution_count": 6,
     "metadata": {},
     "output_type": "execute_result"
    }
   ],
   "source": [
    "i = input_text.find(\"Hyowon Gweon: See this?\")\n",
    "input_text[i-20:i+150]"
   ]
  },
  {
   "cell_type": "markdown",
   "metadata": {
    "deletable": true,
    "editable": true
   },
   "source": [
    "Let's start by removing all parenthesized strings using a regex:"
   ]
  },
  {
   "cell_type": "code",
   "execution_count": 7,
   "metadata": {
    "collapsed": true,
    "deletable": true,
    "editable": true
   },
   "outputs": [],
   "source": [
    "input_text_noparens = re.sub(r'\\([^)]*\\)', '', input_text)"
   ]
  },
  {
   "cell_type": "markdown",
   "metadata": {
    "deletable": true,
    "editable": true
   },
   "source": [
    "We can verify the same location in the text is now clean as follows. We won't worry about the irregular spaces since we'll later split the text into sentences and tokenize it anyway."
   ]
  },
  {
   "cell_type": "code",
   "execution_count": 8,
   "metadata": {
    "collapsed": false,
    "deletable": true,
    "editable": true
   },
   "outputs": [
    {
     "data": {
      "text/plain": [
       "\"hat the baby does.\\n Hyowon Gweon: See this?  Did you see that?  Cool. See this one?  Wow.\\nLaura Schulz: Told you. \\n HG: See this one?  Hey Clara, this one's for you. You \""
      ]
     },
     "execution_count": 8,
     "metadata": {},
     "output_type": "execute_result"
    }
   ],
   "source": [
    "i = input_text_noparens.find(\"Hyowon Gweon: See this?\")\n",
    "input_text_noparens[i-20:i+150]"
   ]
  },
  {
   "cell_type": "markdown",
   "metadata": {
    "deletable": true,
    "editable": true
   },
   "source": [
    "Now, let's attempt to remove speakers' names that occur at the beginning of a line, by deleting pieces of the form \"`<up to 20 characters>:`\", as shown in this example. Of course, this is an imperfect heuristic. "
   ]
  },
  {
   "cell_type": "code",
   "execution_count": 9,
   "metadata": {
    "collapsed": false,
    "deletable": true,
    "editable": true
   },
   "outputs": [
    {
     "data": {
      "text/plain": [
       "[\"Here are two reasons companies fail: they only do more of the same, or they only do what's new\",\n",
       " 'To me the real, real solution to quality growth is figuring out the balance between two activities: exploration and exploitation',\n",
       " ' Both are necessary, but it can be too much of a good thing',\n",
       " 'Consider Facit',\n",
       " \" I'm actually old enough to remember them\"]"
      ]
     },
     "execution_count": 9,
     "metadata": {},
     "output_type": "execute_result"
    }
   ],
   "source": [
    "sentences_strings_ted = []\n",
    "for line in input_text_noparens.split('\\n'):\n",
    "    m = re.match(r'^(?:(?P<precolon>[^:]{,20}):)?(?P<postcolon>.*)$', line)\n",
    "    sentences_strings_ted.extend(sent for sent in m.groupdict()['postcolon'].split('.') if sent)\n",
    "\n",
    "# Uncomment if you need to save some RAM: these strings are about 50MB.\n",
    "# del input_text, input_text_noparens\n",
    "\n",
    "# Let's view the first few:\n",
    "sentences_strings_ted[:5]"
   ]
  },
  {
   "cell_type": "markdown",
   "metadata": {
    "deletable": true,
    "editable": true
   },
   "source": [
    "Now that we have sentences, we're ready to tokenize each of them into words. This tokenization is imperfect, of course. For instance, how many tokens is \"can't\", and where/how do we split it? We'll take the simplest naive approach of splitting on spaces. Before splitting, we remove non-alphanumeric characters, such as punctuation. You may want to consider the following question: why do we replace these characters with spaces rather than deleting them? Think of a case where this yields a different answer."
   ]
  },
  {
   "cell_type": "code",
   "execution_count": 10,
   "metadata": {
    "collapsed": false,
    "deletable": true,
    "editable": true
   },
   "outputs": [],
   "source": [
    "sentences_ted = []\n",
    "for sent_str in sentences_strings_ted:\n",
    "    tokens = re.sub(r\"[^a-z0-9]+\", \" \", sent_str.lower()).split()\n",
    "    sentences_ted.append(tokens)"
   ]
  },
  {
   "cell_type": "markdown",
   "metadata": {
    "deletable": true,
    "editable": true
   },
   "source": [
    "Two sample processed sentences:"
   ]
  },
  {
   "cell_type": "code",
   "execution_count": 11,
   "metadata": {
    "collapsed": false,
    "deletable": true,
    "editable": true
   },
   "outputs": [
    {
     "data": {
      "text/plain": [
       "266694"
      ]
     },
     "execution_count": 11,
     "metadata": {},
     "output_type": "execute_result"
    }
   ],
   "source": [
    "len(sentences_ted)"
   ]
  },
  {
   "cell_type": "code",
   "execution_count": 12,
   "metadata": {
    "collapsed": false,
    "deletable": true,
    "editable": true
   },
   "outputs": [
    {
     "name": "stdout",
     "output_type": "stream",
     "text": [
      "['here', 'are', 'two', 'reasons', 'companies', 'fail', 'they', 'only', 'do', 'more', 'of', 'the', 'same', 'or', 'they', 'only', 'do', 'what', 's', 'new']\n",
      "['to', 'me', 'the', 'real', 'real', 'solution', 'to', 'quality', 'growth', 'is', 'figuring', 'out', 'the', 'balance', 'between', 'two', 'activities', 'exploration', 'and', 'exploitation']\n"
     ]
    }
   ],
   "source": [
    "print(sentences_ted[0])\n",
    "print(sentences_ted[1])"
   ]
  },
  {
   "cell_type": "markdown",
   "metadata": {
    "deletable": true,
    "editable": true
   },
   "source": [
    "### Part 2: Word Frequencies"
   ]
  },
  {
   "cell_type": "markdown",
   "metadata": {
    "deletable": true,
    "editable": true
   },
   "source": [
    "If you store the counts of the top 1000 words in a list called `counts_ted_top1000`, the code below will plot the histogram requested in the writeup."
   ]
  },
  {
   "cell_type": "code",
   "execution_count": 13,
   "metadata": {
    "collapsed": false,
    "deletable": true,
    "editable": true
   },
   "outputs": [],
   "source": [
    "from collections import Counter\n",
    "word_counter = Counter([w for sen in sentences_ted for w in sen])"
   ]
  },
  {
   "cell_type": "code",
   "execution_count": 14,
   "metadata": {
    "collapsed": false,
    "deletable": true,
    "editable": true
   },
   "outputs": [],
   "source": [
    "counts_ted_top1000 = [pair[1] for pair in word_counter.most_common(1000)]"
   ]
  },
  {
   "cell_type": "markdown",
   "metadata": {
    "deletable": true,
    "editable": true
   },
   "source": [
    "Plot distribution of top-1000 words"
   ]
  },
  {
   "cell_type": "code",
   "execution_count": 15,
   "metadata": {
    "collapsed": false,
    "deletable": true,
    "editable": true
   },
   "outputs": [
    {
     "data": {
      "text/html": [
       "\n",
       "\n",
       "    <div class=\"bk-root\">\n",
       "        <div class=\"bk-plotdiv\" id=\"be70db98-4b83-422f-b80c-39669e389d33\"></div>\n",
       "    </div>\n",
       "<script type=\"text/javascript\">\n",
       "  \n",
       "  (function(global) {\n",
       "    function now() {\n",
       "      return new Date();\n",
       "    }\n",
       "  \n",
       "    var force = false;\n",
       "  \n",
       "    if (typeof (window._bokeh_onload_callbacks) === \"undefined\" || force === true) {\n",
       "      window._bokeh_onload_callbacks = [];\n",
       "      window._bokeh_is_loading = undefined;\n",
       "    }\n",
       "  \n",
       "  \n",
       "    \n",
       "    if (typeof (window._bokeh_timeout) === \"undefined\" || force === true) {\n",
       "      window._bokeh_timeout = Date.now() + 0;\n",
       "      window._bokeh_failed_load = false;\n",
       "    }\n",
       "  \n",
       "    var NB_LOAD_WARNING = {'data': {'text/html':\n",
       "       \"<div style='background-color: #fdd'>\\n\"+\n",
       "       \"<p>\\n\"+\n",
       "       \"BokehJS does not appear to have successfully loaded. If loading BokehJS from CDN, this \\n\"+\n",
       "       \"may be due to a slow or bad network connection. Possible fixes:\\n\"+\n",
       "       \"</p>\\n\"+\n",
       "       \"<ul>\\n\"+\n",
       "       \"<li>re-rerun `output_notebook()` to attempt to load from CDN again, or</li>\\n\"+\n",
       "       \"<li>use INLINE resources instead, as so:</li>\\n\"+\n",
       "       \"</ul>\\n\"+\n",
       "       \"<code>\\n\"+\n",
       "       \"from bokeh.resources import INLINE\\n\"+\n",
       "       \"output_notebook(resources=INLINE)\\n\"+\n",
       "       \"</code>\\n\"+\n",
       "       \"</div>\"}};\n",
       "  \n",
       "    function display_loaded() {\n",
       "      if (window.Bokeh !== undefined) {\n",
       "        document.getElementById(\"be70db98-4b83-422f-b80c-39669e389d33\").textContent = \"BokehJS successfully loaded.\";\n",
       "      } else if (Date.now() < window._bokeh_timeout) {\n",
       "        setTimeout(display_loaded, 100)\n",
       "      }\n",
       "    }\n",
       "  \n",
       "    function run_callbacks() {\n",
       "      window._bokeh_onload_callbacks.forEach(function(callback) { callback() });\n",
       "      delete window._bokeh_onload_callbacks\n",
       "      console.info(\"Bokeh: all callbacks have finished\");\n",
       "    }\n",
       "  \n",
       "    function load_libs(js_urls, callback) {\n",
       "      window._bokeh_onload_callbacks.push(callback);\n",
       "      if (window._bokeh_is_loading > 0) {\n",
       "        console.log(\"Bokeh: BokehJS is being loaded, scheduling callback at\", now());\n",
       "        return null;\n",
       "      }\n",
       "      if (js_urls == null || js_urls.length === 0) {\n",
       "        run_callbacks();\n",
       "        return null;\n",
       "      }\n",
       "      console.log(\"Bokeh: BokehJS not loaded, scheduling load and callback at\", now());\n",
       "      window._bokeh_is_loading = js_urls.length;\n",
       "      for (var i = 0; i < js_urls.length; i++) {\n",
       "        var url = js_urls[i];\n",
       "        var s = document.createElement('script');\n",
       "        s.src = url;\n",
       "        s.async = false;\n",
       "        s.onreadystatechange = s.onload = function() {\n",
       "          window._bokeh_is_loading--;\n",
       "          if (window._bokeh_is_loading === 0) {\n",
       "            console.log(\"Bokeh: all BokehJS libraries loaded\");\n",
       "            run_callbacks()\n",
       "          }\n",
       "        };\n",
       "        s.onerror = function() {\n",
       "          console.warn(\"failed to load library \" + url);\n",
       "        };\n",
       "        console.log(\"Bokeh: injecting script tag for BokehJS library: \", url);\n",
       "        document.getElementsByTagName(\"head\")[0].appendChild(s);\n",
       "      }\n",
       "    };var element = document.getElementById(\"be70db98-4b83-422f-b80c-39669e389d33\");\n",
       "    if (element == null) {\n",
       "      console.log(\"Bokeh: ERROR: autoload.js configured with elementid 'be70db98-4b83-422f-b80c-39669e389d33' but no matching script tag was found. \")\n",
       "      return false;\n",
       "    }\n",
       "  \n",
       "    var js_urls = [];\n",
       "  \n",
       "    var inline_js = [\n",
       "      function(Bokeh) {\n",
       "        (function() {\n",
       "          var fn = function() {\n",
       "            var docs_json = {\"aa7ba71d-318c-4f92-946f-8ea3df371244\":{\"roots\":{\"references\":[{\"attributes\":{\"plot\":{\"id\":\"0adc7e90-595d-42a6-8820-98777fb55765\",\"subtype\":\"Figure\",\"type\":\"Plot\"}},\"id\":\"9a47aa57-4b88-4ae1-8c03-e11adac2f646\",\"type\":\"WheelZoomTool\"},{\"attributes\":{},\"id\":\"fa8d90e4-859e-4426-924e-53afc12b4dcf\",\"type\":\"BasicTicker\"},{\"attributes\":{\"bottom\":{\"value\":0},\"fill_color\":{\"value\":\"#1f77b4\"},\"left\":{\"field\":\"left\"},\"line_color\":{\"value\":\"#555555\"},\"right\":{\"field\":\"right\"},\"top\":{\"field\":\"top\"}},\"id\":\"f3eb7ad5-5bd6-481b-8838-f9b9a7ee522c\",\"type\":\"Quad\"},{\"attributes\":{\"callback\":null,\"column_names\":[\"right\",\"top\",\"left\"],\"data\":{\"left\":{\"__ndarray__\":\"AAAAAABAeUB7FK5H4VqjQHsUrkfhxrFAuB6F61HguUB7FK5H4fzAQJqZmZmZCcVAuB6F61EWyUDXo3A9CiPNQHsUrkfhl9BACtejcD2e0kCamZmZmaTUQClcj8L1qtZAuB6F61Gx2EBI4XoUrrfaQNejcD0KvtxAZ2ZmZmbE3kB7FK5HYWXgQMP1KFyPaOFACtejcL1r4kBSuB6F627jQJqZmZkZcuRA4XoUrkd15UApXI/CdXjmQHE9Cteje+dAuB6F69F+6EAAAAAAAILpQEjhehQuhepAkML1KFyI60DXo3A9iovsQB+F61G4ju1AZ2ZmZuaR7kCuR+F6FJXvQHsUrkchTPBAH4XrUbjN8EDD9ShcT0/xQGdmZmbm0PFACtejcH1S8kCuR+F6FNTyQFK4HoWrVfNA9ihcj0LX80CamZmZ2Vj0QD4K16Nw2vRA4XoUrgdc9UCF61G4nt31QClcj8I1X/ZAzczMzMzg9kBxPQrXY2L3QBWuR+H64/dAuB6F65Fl+EBcj8L1KOf4QAAAAADAaPlApHA9Clfq+UBI4XoU7mv6QOxRuB6F7fpAkML1KBxv+0AzMzMzs/D7QNejcD1KcvxAexSuR+Hz/EAfhetReHX9QMP1KFwP9/1AZ2ZmZqZ4/kAK16NwPfr+QK5H4XrUe/9AUrgehWv9/0B7FK5HgT8AQc3MzMxMgABBH4XrURjBAEFxPQrX4wEBQcP1KFyvQgFBFa5H4XqDAUFnZmZmRsQBQbgehesRBQJBCtejcN1FAkFcj8L1qIYCQa5H4Xp0xwJBAAAAAEAIA0FSuB6FC0kDQaRwPQrXiQNB9ihcj6LKA0FI4XoUbgsEQZqZmZk5TARB7FG4HgWNBEE+Ctej0M0EQZDC9SicDgVB4XoUrmdPBUEzMzMzM5AFQYXrUbj+0AVB16NwPcoRBkEpXI/ClVIGQXsUrkdhkwZBzczMzCzUBkEfhetR+BQHQXE9CtfDVQdBw/UoXI+WB0EVrkfhWtcHQWdmZmYmGAhBuB6F6/FYCEEK16NwvZkIQVyPwvWI2ghBrkfhelQbCUE=\",\"dtype\":\"float64\",\"shape\":[100]},\"right\":{\"__ndarray__\":\"exSuR+Fao0B7FK5H4caxQLgehetR4LlAexSuR+H8wECamZmZmQnFQLgehetRFslA16NwPQojzUB7FK5H4ZfQQArXo3A9ntJAmpmZmZmk1EApXI/C9arWQLgehetRsdhASOF6FK632kDXo3A9Cr7cQGdmZmZmxN5AexSuR2Fl4EDD9Shcj2jhQArXo3C9a+JAUrgehetu40CamZmZGXLkQOF6FK5HdeVAKVyPwnV45kBxPQrXo3vnQLgehevRfuhAAAAAAACC6UBI4XoULoXqQJDC9ShciOtA16NwPYqL7EAfhetRuI7tQGdmZmbmke5ArkfhehSV70B7FK5HIUzwQB+F61G4zfBAw/UoXE9P8UBnZmZm5tDxQArXo3B9UvJArkfhehTU8kBSuB6Fq1XzQPYoXI9C1/NAmpmZmdlY9EA+CtejcNr0QOF6FK4HXPVAhetRuJ7d9UApXI/CNV/2QM3MzMzM4PZAcT0K12Ni90AVrkfh+uP3QLgeheuRZfhAXI/C9Sjn+EAAAAAAwGj5QKRwPQpX6vlASOF6FO5r+kDsUbgehe36QJDC9Sgcb/tAMzMzM7Pw+0DXo3A9SnL8QHsUrkfh8/xAH4XrUXh1/UDD9ShcD/f9QGdmZmameP5ACtejcD36/kCuR+F61Hv/QFK4HoVr/f9AexSuR4E/AEHNzMzMTIAAQR+F61EYwQBBcT0K1+MBAUHD9Shcr0IBQRWuR+F6gwFBZ2ZmZkbEAUG4HoXrEQUCQQrXo3DdRQJBXI/C9aiGAkGuR+F6dMcCQQAAAABACANBUrgehQtJA0GkcD0K14kDQfYoXI+iygNBSOF6FG4LBEGamZmZOUwEQexRuB4FjQRBPgrXo9DNBEGQwvUonA4FQeF6FK5nTwVBMzMzMzOQBUGF61G4/tAFQdejcD3KEQZBKVyPwpVSBkF7FK5HYZMGQc3MzMws1AZBH4XrUfgUB0FxPQrXw1UHQcP1KFyPlgdBFa5H4VrXB0FnZmZmJhgIQbgehevxWAhBCtejcL2ZCEFcj8L1iNoIQa5H4XpUGwlBAAAAACBcCUE=\",\"dtype\":\"float64\",\"shape\":[100]},\"top\":{\"__ndarray__\":\"50H1zNSBOT/ypb1tgHIBPwsriUb5Uew+zuTFiLI04j78kGUPxTHhPh40R25oQNY+zuTFiLI00j4pPQWW1y7APsTbB2FDRsg+JT0FltcuwD4tPQWW1y6wPi09BZbXLrA+JT0FltcuwD4tPQWW1y6gPiU9BZbXLrA+LT0FltcuoD4AAAAAAAAAADU9BZbXLqA+AAAAAAAAAAAAAAAAAAAAAAAAAAAAAAAAAAAAAAAAAAAAAAAAAAAAADU9BZbXLqA+AAAAAAAAAAAAAAAAAAAAAAAAAAAAAAAANT0FltcuoD4AAAAAAAAAAAAAAAAAAAAANT0FltcuoD4AAAAAAAAAACU9BZbXLqA+AAAAAAAAAAAlPQWW1y6gPkU9BZbXLqA+AAAAAAAAAAAlPQWW1y6gPgAAAAAAAAAAJT0FltcuoD4AAAAAAAAAAAAAAAAAAAAAAAAAAAAAAAAAAAAAAAAAAAAAAAAAAAAAJT0FltcuoD4AAAAAAAAAAAAAAAAAAAAAAAAAAAAAAAAAAAAAAAAAACU9BZbXLqA+AAAAAAAAAAAAAAAAAAAAAAAAAAAAAAAAAAAAAAAAAAAlPQWW1y6gPgAAAAAAAAAAAAAAAAAAAAAAAAAAAAAAAAAAAAAAAAAART0FltcuoD4AAAAAAAAAAAAAAAAAAAAAAAAAAAAAAAAAAAAAAAAAAAAAAAAAAAAAAAAAAAAAAAAAAAAAAAAAAAAAAAAAAAAAAAAAAAAAAAAAAAAAAAAAACU9BZbXLqA+AAAAAAAAAAAAAAAAAAAAAAAAAAAAAAAAAAAAAAAAAAAAAAAAAAAAAAAAAAAAAAAAAAAAAAAAAAAAAAAAAAAAAAAAAAAAAAAAAAAAAAAAAAAAAAAAAAAAAAAAAAAAAAAAAAAAAAAAAAAAAAAAAAAAAAAAAAAAAAAAAAAAAAAAAAAAAAAAAAAAAAAAAAAAAAAAAAAAAAAAAAAAAAAAAAAAAAAAAAAAAAAAAAAAAAAAAAAAAAAAAAAAAAAAAAAAAAAAAAAAAAAAAAAAAAAAAAAAAAAAAAAAAAAAJT0FltcuoD4=\",\"dtype\":\"float64\",\"shape\":[100]}}},\"id\":\"4ecd7d58-9efc-4496-814c-7f2dd29b8125\",\"type\":\"ColumnDataSource\"},{\"attributes\":{\"callback\":null},\"id\":\"538d326a-2319-4714-8b5b-c67bc352465b\",\"type\":\"DataRange1d\"},{\"attributes\":{\"plot\":{\"id\":\"0adc7e90-595d-42a6-8820-98777fb55765\",\"subtype\":\"Figure\",\"type\":\"Plot\"}},\"id\":\"7629dc26-b681-430a-a910-339399f2f9d6\",\"type\":\"PanTool\"},{\"attributes\":{},\"id\":\"d2f3697c-cb34-4242-8970-469ca18702e3\",\"type\":\"ToolEvents\"},{\"attributes\":{\"callback\":null},\"id\":\"e86186bb-2a32-48f5-bb0f-63ca7958e037\",\"type\":\"DataRange1d\"},{\"attributes\":{},\"id\":\"151542fd-ec71-4938-a241-cd760e32426b\",\"type\":\"BasicTickFormatter\"},{\"attributes\":{\"plot\":{\"id\":\"0adc7e90-595d-42a6-8820-98777fb55765\",\"subtype\":\"Figure\",\"type\":\"Plot\"}},\"id\":\"67ec3b64-5aa0-4323-8be0-07b74951309a\",\"type\":\"SaveTool\"},{\"attributes\":{\"active_drag\":\"auto\",\"active_scroll\":\"auto\",\"active_tap\":\"auto\",\"tools\":[{\"id\":\"7629dc26-b681-430a-a910-339399f2f9d6\",\"type\":\"PanTool\"},{\"id\":\"9a47aa57-4b88-4ae1-8c03-e11adac2f646\",\"type\":\"WheelZoomTool\"},{\"id\":\"e4e1c5ad-65ee-4e8f-9c84-ed6882f3e824\",\"type\":\"ResetTool\"},{\"id\":\"67ec3b64-5aa0-4323-8be0-07b74951309a\",\"type\":\"SaveTool\"}]},\"id\":\"57127548-7ddc-480b-be12-4e786e12df56\",\"type\":\"Toolbar\"},{\"attributes\":{\"dimension\":1,\"plot\":{\"id\":\"0adc7e90-595d-42a6-8820-98777fb55765\",\"subtype\":\"Figure\",\"type\":\"Plot\"},\"ticker\":{\"id\":\"ff5dc036-508e-4288-89d3-2eb145ed4af0\",\"type\":\"BasicTicker\"}},\"id\":\"f619448e-8d92-4d8d-9d6e-1abf1bdc9316\",\"type\":\"Grid\"},{\"attributes\":{\"plot\":{\"id\":\"0adc7e90-595d-42a6-8820-98777fb55765\",\"subtype\":\"Figure\",\"type\":\"Plot\"},\"ticker\":{\"id\":\"fa8d90e4-859e-4426-924e-53afc12b4dcf\",\"type\":\"BasicTicker\"}},\"id\":\"1a4258d4-6f91-4489-801b-dadeb2d0a416\",\"type\":\"Grid\"},{\"attributes\":{},\"id\":\"ff5dc036-508e-4288-89d3-2eb145ed4af0\",\"type\":\"BasicTicker\"},{\"attributes\":{\"plot\":{\"id\":\"0adc7e90-595d-42a6-8820-98777fb55765\",\"subtype\":\"Figure\",\"type\":\"Plot\"}},\"id\":\"e4e1c5ad-65ee-4e8f-9c84-ed6882f3e824\",\"type\":\"ResetTool\"},{\"attributes\":{\"bottom\":{\"value\":0},\"fill_alpha\":{\"value\":0.1},\"fill_color\":{\"value\":\"#1f77b4\"},\"left\":{\"field\":\"left\"},\"line_alpha\":{\"value\":0.1},\"line_color\":{\"value\":\"#1f77b4\"},\"right\":{\"field\":\"right\"},\"top\":{\"field\":\"top\"}},\"id\":\"e666d8cc-e528-4566-8503-bd580b7a0aa0\",\"type\":\"Quad\"},{\"attributes\":{\"data_source\":{\"id\":\"4ecd7d58-9efc-4496-814c-7f2dd29b8125\",\"type\":\"ColumnDataSource\"},\"glyph\":{\"id\":\"f3eb7ad5-5bd6-481b-8838-f9b9a7ee522c\",\"type\":\"Quad\"},\"hover_glyph\":null,\"nonselection_glyph\":{\"id\":\"e666d8cc-e528-4566-8503-bd580b7a0aa0\",\"type\":\"Quad\"},\"selection_glyph\":null},\"id\":\"178c6dbc-22b6-405e-be3e-92d6be433e02\",\"type\":\"GlyphRenderer\"},{\"attributes\":{},\"id\":\"e021e9af-131d-4cad-abce-34aa4d064c7a\",\"type\":\"BasicTickFormatter\"},{\"attributes\":{\"below\":[{\"id\":\"a18c470f-e97f-497e-9a86-d4df751d2483\",\"type\":\"LinearAxis\"}],\"left\":[{\"id\":\"858ac625-015a-45c6-9599-6daa25019a3a\",\"type\":\"LinearAxis\"}],\"renderers\":[{\"id\":\"a18c470f-e97f-497e-9a86-d4df751d2483\",\"type\":\"LinearAxis\"},{\"id\":\"1a4258d4-6f91-4489-801b-dadeb2d0a416\",\"type\":\"Grid\"},{\"id\":\"858ac625-015a-45c6-9599-6daa25019a3a\",\"type\":\"LinearAxis\"},{\"id\":\"f619448e-8d92-4d8d-9d6e-1abf1bdc9316\",\"type\":\"Grid\"},{\"id\":\"178c6dbc-22b6-405e-be3e-92d6be433e02\",\"type\":\"GlyphRenderer\"}],\"title\":{\"id\":\"2f0019d8-4288-496c-ae1d-85e62f08694b\",\"type\":\"Title\"},\"tool_events\":{\"id\":\"d2f3697c-cb34-4242-8970-469ca18702e3\",\"type\":\"ToolEvents\"},\"toolbar\":{\"id\":\"57127548-7ddc-480b-be12-4e786e12df56\",\"type\":\"Toolbar\"},\"toolbar_location\":\"above\",\"x_range\":{\"id\":\"538d326a-2319-4714-8b5b-c67bc352465b\",\"type\":\"DataRange1d\"},\"y_range\":{\"id\":\"e86186bb-2a32-48f5-bb0f-63ca7958e037\",\"type\":\"DataRange1d\"}},\"id\":\"0adc7e90-595d-42a6-8820-98777fb55765\",\"subtype\":\"Figure\",\"type\":\"Plot\"},{\"attributes\":{\"formatter\":{\"id\":\"151542fd-ec71-4938-a241-cd760e32426b\",\"type\":\"BasicTickFormatter\"},\"plot\":{\"id\":\"0adc7e90-595d-42a6-8820-98777fb55765\",\"subtype\":\"Figure\",\"type\":\"Plot\"},\"ticker\":{\"id\":\"ff5dc036-508e-4288-89d3-2eb145ed4af0\",\"type\":\"BasicTicker\"}},\"id\":\"858ac625-015a-45c6-9599-6daa25019a3a\",\"type\":\"LinearAxis\"},{\"attributes\":{\"formatter\":{\"id\":\"e021e9af-131d-4cad-abce-34aa4d064c7a\",\"type\":\"BasicTickFormatter\"},\"plot\":{\"id\":\"0adc7e90-595d-42a6-8820-98777fb55765\",\"subtype\":\"Figure\",\"type\":\"Plot\"},\"ticker\":{\"id\":\"fa8d90e4-859e-4426-924e-53afc12b4dcf\",\"type\":\"BasicTicker\"}},\"id\":\"a18c470f-e97f-497e-9a86-d4df751d2483\",\"type\":\"LinearAxis\"},{\"attributes\":{\"plot\":null,\"text\":\"Top-1000 words distribution\"},\"id\":\"2f0019d8-4288-496c-ae1d-85e62f08694b\",\"type\":\"Title\"}],\"root_ids\":[\"0adc7e90-595d-42a6-8820-98777fb55765\"]},\"title\":\"Bokeh Application\",\"version\":\"0.12.4\"}};\n",
       "            var render_items = [{\"docid\":\"aa7ba71d-318c-4f92-946f-8ea3df371244\",\"elementid\":\"be70db98-4b83-422f-b80c-39669e389d33\",\"modelid\":\"0adc7e90-595d-42a6-8820-98777fb55765\"}];\n",
       "            \n",
       "            Bokeh.embed.embed_items(docs_json, render_items);\n",
       "          };\n",
       "          if (document.readyState != \"loading\") fn();\n",
       "          else document.addEventListener(\"DOMContentLoaded\", fn);\n",
       "        })();\n",
       "      },\n",
       "      function(Bokeh) {\n",
       "      }\n",
       "    ];\n",
       "  \n",
       "    function run_inline_js() {\n",
       "      \n",
       "      if ((window.Bokeh !== undefined) || (force === true)) {\n",
       "        for (var i = 0; i < inline_js.length; i++) {\n",
       "          inline_js[i](window.Bokeh);\n",
       "        }if (force === true) {\n",
       "          display_loaded();\n",
       "        }} else if (Date.now() < window._bokeh_timeout) {\n",
       "        setTimeout(run_inline_js, 100);\n",
       "      } else if (!window._bokeh_failed_load) {\n",
       "        console.log(\"Bokeh: BokehJS failed to load within specified timeout.\");\n",
       "        window._bokeh_failed_load = true;\n",
       "      } else if (force !== true) {\n",
       "        var cell = $(document.getElementById(\"be70db98-4b83-422f-b80c-39669e389d33\")).parents('.cell').data().cell;\n",
       "        cell.output_area.append_execute_result(NB_LOAD_WARNING)\n",
       "      }\n",
       "  \n",
       "    }\n",
       "  \n",
       "    if (window._bokeh_is_loading === 0) {\n",
       "      console.log(\"Bokeh: BokehJS loaded, going straight to plotting\");\n",
       "      run_inline_js();\n",
       "    } else {\n",
       "      load_libs(js_urls, function() {\n",
       "        console.log(\"Bokeh: BokehJS plotting callback run at\", now());\n",
       "        run_inline_js();\n",
       "      });\n",
       "    }\n",
       "  }(this));\n",
       "</script>"
      ]
     },
     "metadata": {},
     "output_type": "display_data"
    }
   ],
   "source": [
    "hist, edges = np.histogram(counts_ted_top1000, density=True, bins=100, normed=True)\n",
    "\n",
    "p = figure(tools=\"pan,wheel_zoom,reset,save\",\n",
    "           toolbar_location=\"above\",\n",
    "           title=\"Top-1000 words distribution\")\n",
    "p.quad(top=hist, bottom=0, left=edges[:-1], right=edges[1:], line_color=\"#555555\")\n",
    "show(p)"
   ]
  },
  {
   "cell_type": "markdown",
   "metadata": {
    "deletable": true,
    "editable": true
   },
   "source": [
    "### Part 3: Train Word2Vec"
   ]
  },
  {
   "cell_type": "code",
   "execution_count": 16,
   "metadata": {
    "collapsed": false,
    "deletable": true,
    "editable": true
   },
   "outputs": [],
   "source": [
    "from gensim.models import Word2Vec"
   ]
  },
  {
   "cell_type": "code",
   "execution_count": 17,
   "metadata": {
    "collapsed": true,
    "deletable": true,
    "editable": true
   },
   "outputs": [],
   "source": [
    "model_ted = Word2Vec(sentences_ted)"
   ]
  },
  {
   "cell_type": "markdown",
   "metadata": {
    "deletable": true,
    "editable": true
   },
   "source": [
    "### Part 4: Ted Learnt Representations"
   ]
  },
  {
   "cell_type": "markdown",
   "metadata": {
    "deletable": true,
    "editable": true
   },
   "source": [
    "Finding similar words: (see gensim docs for more functionality of `most_similar`)"
   ]
  },
  {
   "cell_type": "code",
   "execution_count": 18,
   "metadata": {
    "collapsed": false,
    "deletable": true,
    "editable": true
   },
   "outputs": [
    {
     "data": {
      "text/plain": [
       "[('woman', 0.8452180027961731),\n",
       " ('guy', 0.8034582138061523),\n",
       " ('lady', 0.7762950658798218),\n",
       " ('boy', 0.7447477579116821),\n",
       " ('girl', 0.738081693649292),\n",
       " ('gentleman', 0.7280457019805908),\n",
       " ('soldier', 0.705863356590271),\n",
       " ('poet', 0.7039781808853149),\n",
       " ('kid', 0.690974235534668),\n",
       " ('david', 0.6766745448112488)]"
      ]
     },
     "execution_count": 18,
     "metadata": {},
     "output_type": "execute_result"
    }
   ],
   "source": [
    "model_ted.most_similar(\"man\")"
   ]
  },
  {
   "cell_type": "code",
   "execution_count": 19,
   "metadata": {
    "collapsed": false,
    "deletable": true,
    "editable": true
   },
   "outputs": [
    {
     "data": {
      "text/plain": [
       "[('software', 0.7413312196731567),\n",
       " ('machine', 0.739413857460022),\n",
       " ('robot', 0.7207446098327637),\n",
       " ('device', 0.6769723892211914),\n",
       " ('program', 0.6731733083724976),\n",
       " ('3d', 0.6548019647598267),\n",
       " ('code', 0.6453251838684082),\n",
       " ('printer', 0.6405801177024841),\n",
       " ('interface', 0.6335603594779968),\n",
       " ('circuit', 0.6324732303619385)]"
      ]
     },
     "execution_count": 19,
     "metadata": {},
     "output_type": "execute_result"
    }
   ],
   "source": [
    "model_ted.most_similar(\"computer\")"
   ]
  },
  {
   "cell_type": "markdown",
   "metadata": {
    "deletable": true,
    "editable": true
   },
   "source": [
    "#### t-SNE visualization\n",
    "To use the t-SNE code below, first put a list of the top 1000 words (as strings) into a variable `words_top_ted`. The following code gets the corresponding vectors from the model, assuming it's called `model_ted`:"
   ]
  },
  {
   "cell_type": "code",
   "execution_count": 20,
   "metadata": {
    "collapsed": true
   },
   "outputs": [],
   "source": [
    "words_top_ted = [pair[0] for pair in word_counter.most_common(1000)]"
   ]
  },
  {
   "cell_type": "code",
   "execution_count": 21,
   "metadata": {
    "collapsed": false,
    "deletable": true,
    "editable": true
   },
   "outputs": [],
   "source": [
    "# This assumes words_top_ted is a list of strings, the top 1000 words\n",
    "words_top_vec_ted = model_ted[words_top_ted]"
   ]
  },
  {
   "cell_type": "code",
   "execution_count": 22,
   "metadata": {
    "collapsed": false,
    "deletable": true,
    "editable": true
   },
   "outputs": [],
   "source": [
    "from sklearn.manifold import TSNE\n",
    "tsne = TSNE(n_components=2, random_state=0)\n",
    "words_top_ted_tsne = tsne.fit_transform(words_top_vec_ted)"
   ]
  },
  {
   "cell_type": "code",
   "execution_count": 23,
   "metadata": {
    "collapsed": false,
    "deletable": true,
    "editable": true
   },
   "outputs": [
    {
     "data": {
      "text/html": [
       "\n",
       "\n",
       "    <div class=\"bk-root\">\n",
       "        <div class=\"bk-plotdiv\" id=\"bbaeff60-a3b5-4681-893e-91632e3c6aa0\"></div>\n",
       "    </div>\n",
       "<script type=\"text/javascript\">\n",
       "  \n",
       "  (function(global) {\n",
       "    function now() {\n",
       "      return new Date();\n",
       "    }\n",
       "  \n",
       "    var force = false;\n",
       "  \n",
       "    if (typeof (window._bokeh_onload_callbacks) === \"undefined\" || force === true) {\n",
       "      window._bokeh_onload_callbacks = [];\n",
       "      window._bokeh_is_loading = undefined;\n",
       "    }\n",
       "  \n",
       "  \n",
       "    \n",
       "    if (typeof (window._bokeh_timeout) === \"undefined\" || force === true) {\n",
       "      window._bokeh_timeout = Date.now() + 0;\n",
       "      window._bokeh_failed_load = false;\n",
       "    }\n",
       "  \n",
       "    var NB_LOAD_WARNING = {'data': {'text/html':\n",
       "       \"<div style='background-color: #fdd'>\\n\"+\n",
       "       \"<p>\\n\"+\n",
       "       \"BokehJS does not appear to have successfully loaded. If loading BokehJS from CDN, this \\n\"+\n",
       "       \"may be due to a slow or bad network connection. Possible fixes:\\n\"+\n",
       "       \"</p>\\n\"+\n",
       "       \"<ul>\\n\"+\n",
       "       \"<li>re-rerun `output_notebook()` to attempt to load from CDN again, or</li>\\n\"+\n",
       "       \"<li>use INLINE resources instead, as so:</li>\\n\"+\n",
       "       \"</ul>\\n\"+\n",
       "       \"<code>\\n\"+\n",
       "       \"from bokeh.resources import INLINE\\n\"+\n",
       "       \"output_notebook(resources=INLINE)\\n\"+\n",
       "       \"</code>\\n\"+\n",
       "       \"</div>\"}};\n",
       "  \n",
       "    function display_loaded() {\n",
       "      if (window.Bokeh !== undefined) {\n",
       "        document.getElementById(\"bbaeff60-a3b5-4681-893e-91632e3c6aa0\").textContent = \"BokehJS successfully loaded.\";\n",
       "      } else if (Date.now() < window._bokeh_timeout) {\n",
       "        setTimeout(display_loaded, 100)\n",
       "      }\n",
       "    }\n",
       "  \n",
       "    function run_callbacks() {\n",
       "      window._bokeh_onload_callbacks.forEach(function(callback) { callback() });\n",
       "      delete window._bokeh_onload_callbacks\n",
       "      console.info(\"Bokeh: all callbacks have finished\");\n",
       "    }\n",
       "  \n",
       "    function load_libs(js_urls, callback) {\n",
       "      window._bokeh_onload_callbacks.push(callback);\n",
       "      if (window._bokeh_is_loading > 0) {\n",
       "        console.log(\"Bokeh: BokehJS is being loaded, scheduling callback at\", now());\n",
       "        return null;\n",
       "      }\n",
       "      if (js_urls == null || js_urls.length === 0) {\n",
       "        run_callbacks();\n",
       "        return null;\n",
       "      }\n",
       "      console.log(\"Bokeh: BokehJS not loaded, scheduling load and callback at\", now());\n",
       "      window._bokeh_is_loading = js_urls.length;\n",
       "      for (var i = 0; i < js_urls.length; i++) {\n",
       "        var url = js_urls[i];\n",
       "        var s = document.createElement('script');\n",
       "        s.src = url;\n",
       "        s.async = false;\n",
       "        s.onreadystatechange = s.onload = function() {\n",
       "          window._bokeh_is_loading--;\n",
       "          if (window._bokeh_is_loading === 0) {\n",
       "            console.log(\"Bokeh: all BokehJS libraries loaded\");\n",
       "            run_callbacks()\n",
       "          }\n",
       "        };\n",
       "        s.onerror = function() {\n",
       "          console.warn(\"failed to load library \" + url);\n",
       "        };\n",
       "        console.log(\"Bokeh: injecting script tag for BokehJS library: \", url);\n",
       "        document.getElementsByTagName(\"head\")[0].appendChild(s);\n",
       "      }\n",
       "    };var element = document.getElementById(\"bbaeff60-a3b5-4681-893e-91632e3c6aa0\");\n",
       "    if (element == null) {\n",
       "      console.log(\"Bokeh: ERROR: autoload.js configured with elementid 'bbaeff60-a3b5-4681-893e-91632e3c6aa0' but no matching script tag was found. \")\n",
       "      return false;\n",
       "    }\n",
       "  \n",
       "    var js_urls = [];\n",
       "  \n",
       "    var inline_js = [\n",
       "      function(Bokeh) {\n",
       "        (function() {\n",
       "          var fn = function() {\n",
       "            var docs_json = {\"e0044be7-114b-4acf-97d9-37b1d6eb0fcf\":{\"roots\":{\"references\":[{\"attributes\":{\"plot\":{\"id\":\"6971b4ad-8c9f-4c81-b13f-5c88c61afed7\",\"subtype\":\"Figure\",\"type\":\"Plot\"}},\"id\":\"b89c5a19-516d-4910-b8e2-9645252f181c\",\"type\":\"PanTool\"},{\"attributes\":{},\"id\":\"8cc1cac7-7a75-4615-a9b7-717c7e67050d\",\"type\":\"BasicTicker\"},{\"attributes\":{\"fill_color\":{\"value\":\"#1f77b4\"},\"line_color\":{\"value\":\"#1f77b4\"},\"size\":{\"units\":\"screen\",\"value\":8},\"x\":{\"field\":\"x1\"},\"y\":{\"field\":\"x2\"}},\"id\":\"82e750e8-935e-4a2a-8194-04c34fd86861\",\"type\":\"Circle\"},{\"attributes\":{},\"id\":\"9289a036-34a2-4955-9369-502fb91f986e\",\"type\":\"BasicTickFormatter\"},{\"attributes\":{},\"id\":\"9b647ff4-400c-45a7-8075-e9185f62119f\",\"type\":\"BasicTicker\"},{\"attributes\":{\"formatter\":{\"id\":\"9289a036-34a2-4955-9369-502fb91f986e\",\"type\":\"BasicTickFormatter\"},\"plot\":{\"id\":\"6971b4ad-8c9f-4c81-b13f-5c88c61afed7\",\"subtype\":\"Figure\",\"type\":\"Plot\"},\"ticker\":{\"id\":\"8cc1cac7-7a75-4615-a9b7-717c7e67050d\",\"type\":\"BasicTicker\"}},\"id\":\"6b84b6ae-eb0c-418e-b175-ed008130a023\",\"type\":\"LinearAxis\"},{\"attributes\":{\"data_source\":{\"id\":\"14a1bd66-05e0-4835-9186-99ac06235911\",\"type\":\"ColumnDataSource\"},\"glyph\":{\"id\":\"82e750e8-935e-4a2a-8194-04c34fd86861\",\"type\":\"Circle\"},\"hover_glyph\":null,\"nonselection_glyph\":{\"id\":\"910670f5-1bb5-4d97-b40f-9143411cee10\",\"type\":\"Circle\"},\"selection_glyph\":null},\"id\":\"d1fa18ac-180d-41ee-82f4-a1d080a40f87\",\"type\":\"GlyphRenderer\"},{\"attributes\":{\"plot\":{\"id\":\"6971b4ad-8c9f-4c81-b13f-5c88c61afed7\",\"subtype\":\"Figure\",\"type\":\"Plot\"},\"ticker\":{\"id\":\"9b647ff4-400c-45a7-8075-e9185f62119f\",\"type\":\"BasicTicker\"}},\"id\":\"5b5c29b4-393e-4825-be47-0e91c5edfded\",\"type\":\"Grid\"},{\"attributes\":{\"fill_alpha\":{\"value\":0.1},\"fill_color\":{\"value\":\"#1f77b4\"},\"line_alpha\":{\"value\":0.1},\"line_color\":{\"value\":\"#1f77b4\"},\"size\":{\"units\":\"screen\",\"value\":8},\"x\":{\"field\":\"x1\"},\"y\":{\"field\":\"x2\"}},\"id\":\"910670f5-1bb5-4d97-b40f-9143411cee10\",\"type\":\"Circle\"},{\"attributes\":{\"callback\":null},\"id\":\"999e9e19-a577-4960-b2f1-e1d1cdb4434c\",\"type\":\"DataRange1d\"},{\"attributes\":{\"below\":[{\"id\":\"77a572c7-b70a-4329-8c0d-7da5994ae02a\",\"type\":\"LinearAxis\"}],\"left\":[{\"id\":\"6b84b6ae-eb0c-418e-b175-ed008130a023\",\"type\":\"LinearAxis\"}],\"renderers\":[{\"id\":\"77a572c7-b70a-4329-8c0d-7da5994ae02a\",\"type\":\"LinearAxis\"},{\"id\":\"5b5c29b4-393e-4825-be47-0e91c5edfded\",\"type\":\"Grid\"},{\"id\":\"6b84b6ae-eb0c-418e-b175-ed008130a023\",\"type\":\"LinearAxis\"},{\"id\":\"375346cb-512c-4758-b484-468bcfea4445\",\"type\":\"Grid\"},{\"id\":\"d1fa18ac-180d-41ee-82f4-a1d080a40f87\",\"type\":\"GlyphRenderer\"},{\"id\":\"7ad1e0d7-8edc-474f-b47c-6ce1fe555e4a\",\"type\":\"LabelSet\"}],\"title\":{\"id\":\"0e75435a-7a4a-4d25-a3d3-4473d69e8e60\",\"type\":\"Title\"},\"tool_events\":{\"id\":\"98d68095-2f1e-4cd8-a0b3-89db7ff5c8dc\",\"type\":\"ToolEvents\"},\"toolbar\":{\"id\":\"bf53aa44-7328-4fca-868c-3bf75bbfa660\",\"type\":\"Toolbar\"},\"toolbar_location\":\"above\",\"x_range\":{\"id\":\"999e9e19-a577-4960-b2f1-e1d1cdb4434c\",\"type\":\"DataRange1d\"},\"y_range\":{\"id\":\"1cb18f10-2ae6-4b29-a36d-6248029ea34e\",\"type\":\"DataRange1d\"}},\"id\":\"6971b4ad-8c9f-4c81-b13f-5c88c61afed7\",\"subtype\":\"Figure\",\"type\":\"Plot\"},{\"attributes\":{\"dimension\":1,\"plot\":{\"id\":\"6971b4ad-8c9f-4c81-b13f-5c88c61afed7\",\"subtype\":\"Figure\",\"type\":\"Plot\"},\"ticker\":{\"id\":\"8cc1cac7-7a75-4615-a9b7-717c7e67050d\",\"type\":\"BasicTicker\"}},\"id\":\"375346cb-512c-4758-b484-468bcfea4445\",\"type\":\"Grid\"},{\"attributes\":{\"plot\":{\"id\":\"6971b4ad-8c9f-4c81-b13f-5c88c61afed7\",\"subtype\":\"Figure\",\"type\":\"Plot\"}},\"id\":\"fa3f00e5-bb38-4ffd-b7a5-ca136dbd0134\",\"type\":\"WheelZoomTool\"},{\"attributes\":{\"callback\":null,\"column_names\":[\"x2\",\"names\",\"x1\"],\"data\":{\"names\":[\"the\",\"and\",\"to\",\"of\",\"a\",\"that\",\"i\",\"in\",\"it\",\"you\",\"we\",\"is\",\"s\",\"this\",\"so\",\"they\",\"was\",\"for\",\"are\",\"have\",\"but\",\"what\",\"on\",\"with\",\"can\",\"t\",\"about\",\"there\",\"be\",\"as\",\"at\",\"all\",\"not\",\"do\",\"my\",\"one\",\"re\",\"people\",\"like\",\"if\",\"from\",\"now\",\"our\",\"he\",\"an\",\"just\",\"these\",\"or\",\"when\",\"because\",\"very\",\"me\",\"out\",\"by\",\"them\",\"how\",\"know\",\"up\",\"going\",\"had\",\"more\",\"think\",\"who\",\"were\",\"see\",\"your\",\"their\",\"which\",\"would\",\"here\",\"really\",\"get\",\"ve\",\"then\",\"m\",\"world\",\"us\",\"time\",\"some\",\"has\",\"don\",\"actually\",\"into\",\"way\",\"where\",\"will\",\"years\",\"things\",\"other\",\"no\",\"could\",\"go\",\"well\",\"want\",\"been\",\"make\",\"right\",\"she\",\"said\",\"something\",\"those\",\"first\",\"two\",\"than\",\"much\",\"also\",\"look\",\"new\",\"thing\",\"little\",\"got\",\"back\",\"over\",\"most\",\"say\",\"even\",\"his\",\"life\",\"only\",\"work\",\"many\",\"take\",\"need\",\"did\",\"lot\",\"kind\",\"why\",\"good\",\"around\",\"every\",\"different\",\"down\",\"ll\",\"let\",\"her\",\"through\",\"same\",\"being\",\"come\",\"d\",\"day\",\"year\",\"three\",\"use\",\"doing\",\"put\",\"called\",\"any\",\"today\",\"percent\",\"made\",\"after\",\"thank\",\"tell\",\"great\",\"human\",\"find\",\"didn\",\"fact\",\"talk\",\"change\",\"started\",\"another\",\"idea\",\"big\",\"last\",\"own\",\"before\",\"its\",\"never\",\"should\",\"better\",\"give\",\"thought\",\"went\",\"might\",\"important\",\"000\",\"again\",\"together\",\"able\",\"still\",\"problem\",\"off\",\"next\",\"part\",\"course\",\"system\",\"him\",\"does\",\"each\",\"start\",\"show\",\"long\",\"ago\",\"story\",\"came\",\"brain\",\"few\",\"bit\",\"between\",\"used\",\"place\",\"technology\",\"women\",\"too\",\"old\",\"mean\",\"data\",\"water\",\"looking\",\"question\",\"maybe\",\"found\",\"love\",\"doesn\",\"end\",\"example\",\"10\",\"done\",\"point\",\"four\",\"real\",\"wanted\",\"ever\",\"understand\",\"school\",\"sort\",\"live\",\"call\",\"whole\",\"always\",\"children\",\"trying\",\"may\",\"person\",\"away\",\"believe\",\"feel\",\"try\",\"million\",\"working\",\"help\",\"everything\",\"five\",\"country\",\"thinking\",\"second\",\"using\",\"information\",\"money\",\"means\",\"power\",\"took\",\"times\",\"high\",\"space\",\"number\",\"kids\",\"home\",\"become\",\"create\",\"small\",\"design\",\"making\",\"best\",\"left\",\"getting\",\"future\",\"enough\",\"man\",\"quite\",\"city\",\"without\",\"sense\",\"happened\",\"comes\",\"social\",\"probably\",\"light\",\"less\",\"energy\",\"talking\",\"am\",\"building\",\"science\",\"food\",\"body\",\"told\",\"interesting\",\"ask\",\"half\",\"pretty\",\"play\",\"hard\",\"anything\",\"lives\",\"countries\",\"coming\",\"such\",\"family\",\"stuff\",\"dollars\",\"earth\",\"moment\",\"20\",\"imagine\",\"across\",\"side\",\"saw\",\"while\",\"happen\",\"okay\",\"once\",\"build\",\"having\",\"men\",\"later\",\"experience\",\"makes\",\"asked\",\"living\",\"says\",\"seen\",\"room\",\"hand\",\"simple\",\"health\",\"ways\",\"else\",\"case\",\"almost\",\"yet\",\"young\",\"days\",\"nothing\",\"care\",\"bad\",\"happens\",\"goes\",\"move\",\"states\",\"reason\",\"computer\",\"open\",\"learn\",\"africa\",\"process\",\"inside\",\"someone\",\"six\",\"far\",\"mind\",\"project\",\"remember\",\"single\",\"picture\",\"both\",\"whether\",\"problems\",\"basically\",\"community\",\"saying\",\"already\",\"within\",\"looked\",\"myself\",\"billion\",\"possible\",\"often\",\"business\",\"planet\",\"global\",\"everybody\",\"top\",\"public\",\"sure\",\"set\",\"wrong\",\"book\",\"car\",\"keep\",\"answer\",\"yes\",\"oh\",\"sometimes\",\"hope\",\"true\",\"history\",\"war\",\"guy\",\"child\",\"instead\",\"months\",\"ideas\",\"looks\",\"matter\",\"government\",\"amazing\",\"united\",\"since\",\"cells\",\"bring\",\"age\",\"job\",\"heard\",\"until\",\"face\",\"wasn\",\"100\",\"read\",\"control\",\"isn\",\"research\",\"30\",\"words\",\"u\",\"group\",\"under\",\"self\",\"somebody\",\"built\",\"state\",\"woman\",\"turn\",\"friends\",\"beautiful\",\"line\",\"knew\",\"couple\",\"order\",\"form\",\"yeah\",\"internet\",\"middle\",\"music\",\"piece\",\"nature\",\"head\",\"though\",\"stop\",\"everyone\",\"50\",\"places\",\"video\",\"language\",\"learned\",\"run\",\"night\",\"decided\",\"word\",\"study\",\"cancer\",\"taking\",\"works\",\"became\",\"exactly\",\"species\",\"society\",\"completely\",\"education\",\"against\",\"stories\",\"large\",\"share\",\"level\",\"heart\",\"america\",\"model\",\"questions\",\"gets\",\"mother\",\"god\",\"company\",\"turns\",\"ourselves\",\"happening\",\"hear\",\"art\",\"themselves\",\"must\",\"itself\",\"rather\",\"kinds\",\"students\",\"name\",\"hours\",\"disease\",\"front\",\"house\",\"huge\",\"couldn\",\"created\",\"universe\",\"ok\",\"animals\",\"american\",\"environment\",\"worked\",\"minutes\",\"ones\",\"black\",\"1\",\"perhaps\",\"past\",\"third\",\"along\",\"finally\",\"others\",\"sound\",\"early\",\"game\",\"thousands\",\"century\",\"based\",\"least\",\"per\",\"ted\",\"lots\",\"figure\",\"free\",\"particular\",\"guys\",\"happy\",\"news\",\"learning\",\"entire\",\"won\",\"gave\",\"machine\",\"india\",\"during\",\"systems\",\"air\",\"difference\",\"outside\",\"natural\",\"taken\",\"seven\",\"given\",\"changed\",\"leave\",\"cell\",\"15\",\"close\",\"cities\",\"behind\",\"full\",\"scale\",\"difficult\",\"china\",\"takes\",\"companies\",\"yourself\",\"area\",\"reality\",\"seeing\",\"easy\",\"turned\",\"cost\",\"eyes\",\"moving\",\"team\",\"population\",\"culture\",\"york\",\"hands\",\"began\",\"whatever\",\"needs\",\"terms\",\"image\",\"needed\",\"simply\",\"beginning\",\"father\",\"local\",\"realized\",\"media\",\"parents\",\"death\",\"view\",\"walk\",\"white\",\"market\",\"parts\",\"ocean\",\"economic\",\"eight\",\"powerful\",\"known\",\"week\",\"size\",\"felt\",\"humans\",\"certain\",\"spend\",\"longer\",\"phone\",\"wonderful\",\"cannot\",\"common\",\"grow\",\"center\",\"tried\",\"fish\",\"land\",\"oil\",\"interested\",\"political\",\"deal\",\"red\",\"gone\",\"amount\",\"weeks\",\"spent\",\"opportunity\",\"lost\",\"paper\",\"quickly\",\"national\",\"blue\",\"step\",\"poor\",\"green\",\"buy\",\"growth\",\"wouldn\",\"either\",\"patients\",\"sitting\",\"ability\",\"changes\",\"write\",\"south\",\"challenge\",\"low\",\"friend\",\"growing\",\"field\",\"shows\",\"2\",\"rest\",\"born\",\"climate\",\"40\",\"test\",\"street\",\"incredible\",\"surface\",\"average\",\"value\",\"pay\",\"morning\",\"scientists\",\"physical\",\"program\",\"met\",\"feeling\",\"girl\",\"behavior\",\"hundreds\",\"economy\",\"dna\",\"complex\",\"access\",\"risk\",\"animal\",\"structure\",\"feet\",\"attention\",\"anyone\",\"areas\",\"deep\",\"watch\",\"short\",\"absolutely\",\"speak\",\"brought\",\"bottom\",\"die\",\"numbers\",\"audience\",\"stage\",\"realize\",\"images\",\"law\",\"wrote\",\"understanding\",\"literally\",\"knowledge\",\"books\",\"movement\",\"ground\",\"giving\",\"eat\",\"force\",\"alone\",\"seems\",\"telling\",\"starting\",\"hold\",\"nice\",\"sea\",\"forward\",\"developed\",\"kid\",\"individual\",\"millions\",\"support\",\"miles\",\"running\",\"tools\",\"online\",\"result\",\"technologies\",\"medical\",\"act\",\"north\",\"lab\",\"development\",\"blood\",\"fear\",\"map\",\"nobody\",\"personal\",\"issue\",\"voice\",\"material\",\"key\",\"recently\",\"12\",\"theory\",\"cut\",\"cars\",\"fast\",\"sun\",\"changing\",\"playing\",\"clear\",\"especially\",\"patient\",\"soon\",\"girls\",\"choice\",\"fly\",\"creating\",\"normal\",\"europe\",\"relationship\",\"talked\",\"discovered\",\"gives\",\"generation\",\"dark\",\"type\",\"showed\",\"chance\",\"seem\",\"industry\",\"asking\",\"rate\",\"designed\",\"hour\",\"issues\",\"color\",\"fun\",\"class\",\"computers\",\"university\",\"several\",\"innovation\",\"tiny\",\"english\",\"focus\",\"save\",\"allow\",\"developing\",\"digital\",\"solve\",\"film\",\"network\",\"special\",\"wall\",\"baby\",\"situation\",\"solution\",\"knows\",\"reasons\",\"box\",\"meet\",\"dead\",\"stand\",\"haven\",\"anybody\",\"begin\",\"impact\",\"term\",\"pictures\",\"beyond\",\"please\",\"produce\",\"ice\",\"shape\",\"non\",\"robot\",\"cool\",\"resources\",\"stay\",\"likely\",\"groups\",\"available\",\"major\",\"truth\",\"rights\",\"writing\",\"evidence\",\"cause\",\"experiment\",\"obviously\",\"modern\",\"drug\",\"incredibly\",\"becomes\",\"bigger\",\"guess\",\"aren\",\"drugs\",\"nine\",\"product\",\"lived\",\"involved\",\"perfect\",\"month\",\"google\",\"similar\",\"putting\",\"effect\",\"pick\",\"eye\",\"message\",\"quality\",\"web\",\"violence\",\"security\",\"office\",\"evolution\",\"indeed\",\"solar\",\"basic\",\"general\",\"towards\",\"present\",\"drive\",\"worth\",\"listen\",\"send\",\"revolution\",\"hundred\",\"explain\",\"certainly\",\"died\",\"teach\",\"ready\",\"25\",\"journey\",\"walking\",\"hit\",\"led\",\"approach\",\"international\",\"200\",\"games\",\"scientific\",\"communities\",\"potential\",\"60\",\"crazy\",\"chinese\",\"device\",\"camera\",\"source\",\"sex\",\"rules\",\"carbon\",\"sounds\",\"boy\",\"reach\",\"starts\",\"examples\",\"west\",\"3\",\"software\",\"measure\",\"success\",\"particularly\",\"totally\",\"suddenly\",\"action\",\"higher\",\"college\",\"code\",\"eventually\",\"democracy\",\"sit\",\"minute\",\"among\",\"largest\",\"hospital\",\"showing\",\"notice\",\"period\",\"develop\",\"mass\",\"dream\",\"onto\",\"add\",\"break\",\"memory\",\"plants\",\"everywhere\",\"favorite\",\"11\",\"zero\",\"response\",\"schools\",\"speed\",\"moved\",\"wants\",\"movie\",\"individuals\",\"wait\",\"table\",\"extremely\",\"anyway\",\"follow\",\"medicine\",\"trust\",\"biggest\",\"plant\",\"organization\",\"watching\",\"road\",\"creative\",\"choose\",\"worse\",\"lead\",\"results\",\"500\",\"exciting\",\"grew\",\"materials\",\"jobs\",\"poverty\",\"east\",\"positive\",\"plan\",\"safe\",\"fall\",\"strong\",\"essentially\",\"door\",\"object\",\"continue\",\"vision\",\"son\",\"further\",\"happiness\",\"student\",\"doctor\",\"named\",\"objects\",\"including\",\"role\",\"extraordinary\",\"standing\",\"usually\",\"leaders\",\"african\",\"skin\",\"projects\",\"conversation\",\"models\",\"allowed\",\"supposed\",\"faster\",\"interest\",\"fight\",\"families\",\"police\",\"connected\",\"tree\",\"screen\",\"5\",\"cases\",\"goal\",\"somewhere\",\"finding\",\"shown\",\"buildings\"],\"x1\":{\"__ndarray__\":\"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\",\"dtype\":\"float64\",\"shape\":[1000]},\"x2\":{\"__ndarray__\":\"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\",\"dtype\":\"float64\",\"shape\":[1000]}}},\"id\":\"14a1bd66-05e0-4835-9186-99ac06235911\",\"type\":\"ColumnDataSource\"},{\"attributes\":{\"active_drag\":\"auto\",\"active_scroll\":\"auto\",\"active_tap\":\"auto\",\"tools\":[{\"id\":\"b89c5a19-516d-4910-b8e2-9645252f181c\",\"type\":\"PanTool\"},{\"id\":\"fa3f00e5-bb38-4ffd-b7a5-ca136dbd0134\",\"type\":\"WheelZoomTool\"},{\"id\":\"4ae6aa21-6bf7-47f0-b78d-c398149c9008\",\"type\":\"ResetTool\"},{\"id\":\"c300d1a0-8541-4387-909f-62ba9eb861d8\",\"type\":\"SaveTool\"}]},\"id\":\"bf53aa44-7328-4fca-868c-3bf75bbfa660\",\"type\":\"Toolbar\"},{\"attributes\":{\"plot\":{\"id\":\"6971b4ad-8c9f-4c81-b13f-5c88c61afed7\",\"subtype\":\"Figure\",\"type\":\"Plot\"}},\"id\":\"4ae6aa21-6bf7-47f0-b78d-c398149c9008\",\"type\":\"ResetTool\"},{\"attributes\":{},\"id\":\"d1eb05d7-346e-4be2-8130-8d6c9838d4fc\",\"type\":\"BasicTickFormatter\"},{\"attributes\":{\"plot\":null,\"text\":\"word2vec T-SNE for most common words\"},\"id\":\"0e75435a-7a4a-4d25-a3d3-4473d69e8e60\",\"type\":\"Title\"},{\"attributes\":{\"plot\":{\"id\":\"6971b4ad-8c9f-4c81-b13f-5c88c61afed7\",\"subtype\":\"Figure\",\"type\":\"Plot\"},\"source\":{\"id\":\"14a1bd66-05e0-4835-9186-99ac06235911\",\"type\":\"ColumnDataSource\"},\"text\":{\"field\":\"names\"},\"text_align\":\"center\",\"text_color\":{\"value\":\"#555555\"},\"text_font_size\":{\"value\":\"8pt\"},\"x\":{\"field\":\"x1\"},\"y\":{\"field\":\"x2\"},\"y_offset\":{\"value\":6}},\"id\":\"7ad1e0d7-8edc-474f-b47c-6ce1fe555e4a\",\"type\":\"LabelSet\"},{\"attributes\":{},\"id\":\"98d68095-2f1e-4cd8-a0b3-89db7ff5c8dc\",\"type\":\"ToolEvents\"},{\"attributes\":{\"callback\":null},\"id\":\"1cb18f10-2ae6-4b29-a36d-6248029ea34e\",\"type\":\"DataRange1d\"},{\"attributes\":{\"plot\":{\"id\":\"6971b4ad-8c9f-4c81-b13f-5c88c61afed7\",\"subtype\":\"Figure\",\"type\":\"Plot\"}},\"id\":\"c300d1a0-8541-4387-909f-62ba9eb861d8\",\"type\":\"SaveTool\"},{\"attributes\":{\"formatter\":{\"id\":\"d1eb05d7-346e-4be2-8130-8d6c9838d4fc\",\"type\":\"BasicTickFormatter\"},\"plot\":{\"id\":\"6971b4ad-8c9f-4c81-b13f-5c88c61afed7\",\"subtype\":\"Figure\",\"type\":\"Plot\"},\"ticker\":{\"id\":\"9b647ff4-400c-45a7-8075-e9185f62119f\",\"type\":\"BasicTicker\"}},\"id\":\"77a572c7-b70a-4329-8c0d-7da5994ae02a\",\"type\":\"LinearAxis\"}],\"root_ids\":[\"6971b4ad-8c9f-4c81-b13f-5c88c61afed7\"]},\"title\":\"Bokeh Application\",\"version\":\"0.12.4\"}};\n",
       "            var render_items = [{\"docid\":\"e0044be7-114b-4acf-97d9-37b1d6eb0fcf\",\"elementid\":\"bbaeff60-a3b5-4681-893e-91632e3c6aa0\",\"modelid\":\"6971b4ad-8c9f-4c81-b13f-5c88c61afed7\"}];\n",
       "            \n",
       "            Bokeh.embed.embed_items(docs_json, render_items);\n",
       "          };\n",
       "          if (document.readyState != \"loading\") fn();\n",
       "          else document.addEventListener(\"DOMContentLoaded\", fn);\n",
       "        })();\n",
       "      },\n",
       "      function(Bokeh) {\n",
       "      }\n",
       "    ];\n",
       "  \n",
       "    function run_inline_js() {\n",
       "      \n",
       "      if ((window.Bokeh !== undefined) || (force === true)) {\n",
       "        for (var i = 0; i < inline_js.length; i++) {\n",
       "          inline_js[i](window.Bokeh);\n",
       "        }if (force === true) {\n",
       "          display_loaded();\n",
       "        }} else if (Date.now() < window._bokeh_timeout) {\n",
       "        setTimeout(run_inline_js, 100);\n",
       "      } else if (!window._bokeh_failed_load) {\n",
       "        console.log(\"Bokeh: BokehJS failed to load within specified timeout.\");\n",
       "        window._bokeh_failed_load = true;\n",
       "      } else if (force !== true) {\n",
       "        var cell = $(document.getElementById(\"bbaeff60-a3b5-4681-893e-91632e3c6aa0\")).parents('.cell').data().cell;\n",
       "        cell.output_area.append_execute_result(NB_LOAD_WARNING)\n",
       "      }\n",
       "  \n",
       "    }\n",
       "  \n",
       "    if (window._bokeh_is_loading === 0) {\n",
       "      console.log(\"Bokeh: BokehJS loaded, going straight to plotting\");\n",
       "      run_inline_js();\n",
       "    } else {\n",
       "      load_libs(js_urls, function() {\n",
       "        console.log(\"Bokeh: BokehJS plotting callback run at\", now());\n",
       "        run_inline_js();\n",
       "      });\n",
       "    }\n",
       "  }(this));\n",
       "</script>"
      ]
     },
     "metadata": {},
     "output_type": "display_data"
    }
   ],
   "source": [
    "p = figure(tools=\"pan,wheel_zoom,reset,save\",\n",
    "           toolbar_location=\"above\",\n",
    "           title=\"word2vec T-SNE for most common words\")\n",
    "\n",
    "source = ColumnDataSource(data=dict(x1=words_top_ted_tsne[:,0],\n",
    "                                    x2=words_top_ted_tsne[:,1],\n",
    "                                    names=words_top_ted))\n",
    "\n",
    "p.scatter(x=\"x1\", y=\"x2\", size=8, source=source)\n",
    "\n",
    "labels = LabelSet(x=\"x1\", y=\"x2\", text=\"names\", y_offset=6,\n",
    "                  text_font_size=\"8pt\", text_color=\"#555555\",\n",
    "                  source=source, text_align='center')\n",
    "p.add_layout(labels)\n",
    "\n",
    "show(p)"
   ]
  },
  {
   "cell_type": "markdown",
   "metadata": {
    "deletable": true,
    "editable": true
   },
   "source": [
    "### Part 5: Wiki Learnt Representations"
   ]
  },
  {
   "cell_type": "markdown",
   "metadata": {
    "deletable": true,
    "editable": true
   },
   "source": [
    "Download dataset"
   ]
  },
  {
   "cell_type": "code",
   "execution_count": 24,
   "metadata": {
    "collapsed": true,
    "deletable": true,
    "editable": true
   },
   "outputs": [],
   "source": [
    "if not os.path.isfile('wikitext-103-raw-v1.zip'):\n",
    "    urllib.request.urlretrieve(\"https://s3.amazonaws.com/research.metamind.io/wikitext/wikitext-103-raw-v1.zip\", filename=\"wikitext-103-raw-v1.zip\")"
   ]
  },
  {
   "cell_type": "code",
   "execution_count": 25,
   "metadata": {
    "collapsed": false,
    "deletable": true,
    "editable": true
   },
   "outputs": [],
   "source": [
    "with zipfile.ZipFile('wikitext-103-raw-v1.zip', 'r') as z:\n",
    "    input_text = str(z.open('wikitext-103-raw/wiki.train.raw', 'r').read(), encoding='utf-8') # Thanks Robert Bastian"
   ]
  },
  {
   "cell_type": "markdown",
   "metadata": {
    "deletable": true,
    "editable": true
   },
   "source": [
    "Preprocess sentences (note that it's important to remove small sentences for performance)"
   ]
  },
  {
   "cell_type": "code",
   "execution_count": 26,
   "metadata": {
    "collapsed": false,
    "deletable": true,
    "editable": true
   },
   "outputs": [],
   "source": [
    "sentences_wiki = []\n",
    "for line in input_text.split('\\n'):\n",
    "    s = [x for x in line.split('.') if x and len(x.split()) >= 5]\n",
    "    sentences_wiki.extend(s)\n",
    "    \n",
    "for s_i in range(len(sentences_wiki)):\n",
    "    sentences_wiki[s_i] = re.sub(\"[^a-z]\", \" \", sentences_wiki[s_i].lower())\n",
    "    sentences_wiki[s_i] = re.sub(r'\\([^)]*\\)', '', sentences_wiki[s_i])\n",
    "del input_text"
   ]
  },
  {
   "cell_type": "code",
   "execution_count": 27,
   "metadata": {
    "collapsed": false,
    "deletable": true,
    "editable": true
   },
   "outputs": [
    {
     "name": "stdout",
     "output_type": "stream",
     "text": [
      "4267112\n",
      "853422\n"
     ]
    }
   ],
   "source": [
    "# sample 1/5 of the data\n",
    "shuffle(sentences_wiki)\n",
    "print(len(sentences_wiki))\n",
    "sentences_wiki = sentences_wiki[:int(len(sentences_wiki)/5)]\n",
    "print(len(sentences_wiki))"
   ]
  },
  {
   "cell_type": "markdown",
   "metadata": {
    "deletable": true,
    "editable": true
   },
   "source": [
    "Now, repeat all the same steps that you performed above. You should be able to reuse essentially all the code."
   ]
  },
  {
   "cell_type": "code",
   "execution_count": 28,
   "metadata": {
    "collapsed": false,
    "deletable": true,
    "editable": true
   },
   "outputs": [],
   "source": [
    "sentences_token_wiki = [re.sub(r\"[^a-z0-9]+\", \" \", token.lower()).split() for token in sentences_wiki]"
   ]
  },
  {
   "cell_type": "code",
   "execution_count": 29,
   "metadata": {
    "collapsed": false
   },
   "outputs": [],
   "source": [
    "wiki_counter = Counter([word for sent in sentences_token_wiki for word in sent])\n",
    "words_top_wiki = [pair[0] for pair in wiki_counter.most_common(1000)]"
   ]
  },
  {
   "cell_type": "code",
   "execution_count": 30,
   "metadata": {
    "collapsed": true
   },
   "outputs": [],
   "source": [
    "model_wiki = Word2Vec(sentences_token_wiki)"
   ]
  },
  {
   "cell_type": "markdown",
   "metadata": {
    "deletable": true,
    "editable": true
   },
   "source": [
    "#### t-SNE visualization"
   ]
  },
  {
   "cell_type": "code",
   "execution_count": 31,
   "metadata": {
    "collapsed": false,
    "deletable": true,
    "editable": true
   },
   "outputs": [],
   "source": [
    "# This assumes words_top_wiki is a list of strings, the top 1000 words\n",
    "words_top_vec_wiki = model_wiki[words_top_wiki]\n",
    "\n",
    "tsne = TSNE(n_components=2, random_state=0)\n",
    "words_top_wiki_tsne = tsne.fit_transform(words_top_vec_wiki)"
   ]
  },
  {
   "cell_type": "code",
   "execution_count": 32,
   "metadata": {
    "collapsed": false,
    "deletable": true,
    "editable": true
   },
   "outputs": [
    {
     "data": {
      "text/html": [
       "\n",
       "\n",
       "    <div class=\"bk-root\">\n",
       "        <div class=\"bk-plotdiv\" id=\"54f06bab-e703-4214-a7a7-ebeb65119b72\"></div>\n",
       "    </div>\n",
       "<script type=\"text/javascript\">\n",
       "  \n",
       "  (function(global) {\n",
       "    function now() {\n",
       "      return new Date();\n",
       "    }\n",
       "  \n",
       "    var force = false;\n",
       "  \n",
       "    if (typeof (window._bokeh_onload_callbacks) === \"undefined\" || force === true) {\n",
       "      window._bokeh_onload_callbacks = [];\n",
       "      window._bokeh_is_loading = undefined;\n",
       "    }\n",
       "  \n",
       "  \n",
       "    \n",
       "    if (typeof (window._bokeh_timeout) === \"undefined\" || force === true) {\n",
       "      window._bokeh_timeout = Date.now() + 0;\n",
       "      window._bokeh_failed_load = false;\n",
       "    }\n",
       "  \n",
       "    var NB_LOAD_WARNING = {'data': {'text/html':\n",
       "       \"<div style='background-color: #fdd'>\\n\"+\n",
       "       \"<p>\\n\"+\n",
       "       \"BokehJS does not appear to have successfully loaded. If loading BokehJS from CDN, this \\n\"+\n",
       "       \"may be due to a slow or bad network connection. Possible fixes:\\n\"+\n",
       "       \"</p>\\n\"+\n",
       "       \"<ul>\\n\"+\n",
       "       \"<li>re-rerun `output_notebook()` to attempt to load from CDN again, or</li>\\n\"+\n",
       "       \"<li>use INLINE resources instead, as so:</li>\\n\"+\n",
       "       \"</ul>\\n\"+\n",
       "       \"<code>\\n\"+\n",
       "       \"from bokeh.resources import INLINE\\n\"+\n",
       "       \"output_notebook(resources=INLINE)\\n\"+\n",
       "       \"</code>\\n\"+\n",
       "       \"</div>\"}};\n",
       "  \n",
       "    function display_loaded() {\n",
       "      if (window.Bokeh !== undefined) {\n",
       "        document.getElementById(\"54f06bab-e703-4214-a7a7-ebeb65119b72\").textContent = \"BokehJS successfully loaded.\";\n",
       "      } else if (Date.now() < window._bokeh_timeout) {\n",
       "        setTimeout(display_loaded, 100)\n",
       "      }\n",
       "    }\n",
       "  \n",
       "    function run_callbacks() {\n",
       "      window._bokeh_onload_callbacks.forEach(function(callback) { callback() });\n",
       "      delete window._bokeh_onload_callbacks\n",
       "      console.info(\"Bokeh: all callbacks have finished\");\n",
       "    }\n",
       "  \n",
       "    function load_libs(js_urls, callback) {\n",
       "      window._bokeh_onload_callbacks.push(callback);\n",
       "      if (window._bokeh_is_loading > 0) {\n",
       "        console.log(\"Bokeh: BokehJS is being loaded, scheduling callback at\", now());\n",
       "        return null;\n",
       "      }\n",
       "      if (js_urls == null || js_urls.length === 0) {\n",
       "        run_callbacks();\n",
       "        return null;\n",
       "      }\n",
       "      console.log(\"Bokeh: BokehJS not loaded, scheduling load and callback at\", now());\n",
       "      window._bokeh_is_loading = js_urls.length;\n",
       "      for (var i = 0; i < js_urls.length; i++) {\n",
       "        var url = js_urls[i];\n",
       "        var s = document.createElement('script');\n",
       "        s.src = url;\n",
       "        s.async = false;\n",
       "        s.onreadystatechange = s.onload = function() {\n",
       "          window._bokeh_is_loading--;\n",
       "          if (window._bokeh_is_loading === 0) {\n",
       "            console.log(\"Bokeh: all BokehJS libraries loaded\");\n",
       "            run_callbacks()\n",
       "          }\n",
       "        };\n",
       "        s.onerror = function() {\n",
       "          console.warn(\"failed to load library \" + url);\n",
       "        };\n",
       "        console.log(\"Bokeh: injecting script tag for BokehJS library: \", url);\n",
       "        document.getElementsByTagName(\"head\")[0].appendChild(s);\n",
       "      }\n",
       "    };var element = document.getElementById(\"54f06bab-e703-4214-a7a7-ebeb65119b72\");\n",
       "    if (element == null) {\n",
       "      console.log(\"Bokeh: ERROR: autoload.js configured with elementid '54f06bab-e703-4214-a7a7-ebeb65119b72' but no matching script tag was found. \")\n",
       "      return false;\n",
       "    }\n",
       "  \n",
       "    var js_urls = [];\n",
       "  \n",
       "    var inline_js = [\n",
       "      function(Bokeh) {\n",
       "        (function() {\n",
       "          var fn = function() {\n",
       "            var docs_json = {\"1b11f5bb-d9b7-4c11-be04-ce94459cc7ea\":{\"roots\":{\"references\":[{\"attributes\":{\"active_drag\":\"auto\",\"active_scroll\":\"auto\",\"active_tap\":\"auto\",\"tools\":[{\"id\":\"2bf89f9c-2a27-4d72-8f3e-e93d8d2f559e\",\"type\":\"PanTool\"},{\"id\":\"ecfebc0d-6d74-466e-89d0-00f1168de248\",\"type\":\"WheelZoomTool\"},{\"id\":\"680a5c92-3c2d-44a1-8004-d1f44c903689\",\"type\":\"ResetTool\"},{\"id\":\"73c0eaac-ae1b-4e86-99f9-55a42ff34541\",\"type\":\"SaveTool\"}]},\"id\":\"435dfd0b-43c3-4cc1-b365-ac295b6539de\",\"type\":\"Toolbar\"},{\"attributes\":{\"plot\":{\"id\":\"a31a5b8f-92b1-41d3-8f4d-4b88549092c7\",\"subtype\":\"Figure\",\"type\":\"Plot\"},\"source\":{\"id\":\"7edf5859-f8cd-4016-a651-36fcc9eeb6bc\",\"type\":\"ColumnDataSource\"},\"text\":{\"field\":\"names\"},\"text_align\":\"center\",\"text_color\":{\"value\":\"#555555\"},\"text_font_size\":{\"value\":\"8pt\"},\"x\":{\"field\":\"x1\"},\"y\":{\"field\":\"x2\"},\"y_offset\":{\"value\":6}},\"id\":\"9361c07c-b5f6-4f21-b793-0db0b1bdc7aa\",\"type\":\"LabelSet\"},{\"attributes\":{},\"id\":\"4ba3618b-1b8b-4971-bd29-984f099b4f42\",\"type\":\"BasicTicker\"},{\"attributes\":{},\"id\":\"c4664d0e-3fe3-4dd0-9292-52047ce7d06c\",\"type\":\"ToolEvents\"},{\"attributes\":{\"fill_color\":{\"value\":\"#1f77b4\"},\"line_color\":{\"value\":\"#1f77b4\"},\"size\":{\"units\":\"screen\",\"value\":8},\"x\":{\"field\":\"x1\"},\"y\":{\"field\":\"x2\"}},\"id\":\"c37f730c-e0c7-42fd-a523-47f57fb68638\",\"type\":\"Circle\"},{\"attributes\":{},\"id\":\"987ea212-31b1-4077-b9a6-6c92b53812cd\",\"type\":\"BasicTickFormatter\"},{\"attributes\":{\"plot\":null,\"text\":\"word2vec T-SNE for most common words\"},\"id\":\"b256e502-3c2c-4cda-b70b-97d26a4098ca\",\"type\":\"Title\"},{\"attributes\":{\"fill_alpha\":{\"value\":0.1},\"fill_color\":{\"value\":\"#1f77b4\"},\"line_alpha\":{\"value\":0.1},\"line_color\":{\"value\":\"#1f77b4\"},\"size\":{\"units\":\"screen\",\"value\":8},\"x\":{\"field\":\"x1\"},\"y\":{\"field\":\"x2\"}},\"id\":\"5bdcb798-c12b-4a95-be26-a11f0b0e0766\",\"type\":\"Circle\"},{\"attributes\":{\"plot\":{\"id\":\"a31a5b8f-92b1-41d3-8f4d-4b88549092c7\",\"subtype\":\"Figure\",\"type\":\"Plot\"}},\"id\":\"ecfebc0d-6d74-466e-89d0-00f1168de248\",\"type\":\"WheelZoomTool\"},{\"attributes\":{\"data_source\":{\"id\":\"7edf5859-f8cd-4016-a651-36fcc9eeb6bc\",\"type\":\"ColumnDataSource\"},\"glyph\":{\"id\":\"c37f730c-e0c7-42fd-a523-47f57fb68638\",\"type\":\"Circle\"},\"hover_glyph\":null,\"nonselection_glyph\":{\"id\":\"5bdcb798-c12b-4a95-be26-a11f0b0e0766\",\"type\":\"Circle\"},\"selection_glyph\":null},\"id\":\"845d3793-118b-4597-8764-d97fcd53270b\",\"type\":\"GlyphRenderer\"},{\"attributes\":{\"callback\":null},\"id\":\"64ede18a-24f7-499f-82fd-6a4a1410d868\",\"type\":\"DataRange1d\"},{\"attributes\":{},\"id\":\"4db05cc9-e7fc-454c-84f2-757fd49db590\",\"type\":\"BasicTickFormatter\"},{\"attributes\":{\"plot\":{\"id\":\"a31a5b8f-92b1-41d3-8f4d-4b88549092c7\",\"subtype\":\"Figure\",\"type\":\"Plot\"}},\"id\":\"680a5c92-3c2d-44a1-8004-d1f44c903689\",\"type\":\"ResetTool\"},{\"attributes\":{\"formatter\":{\"id\":\"4db05cc9-e7fc-454c-84f2-757fd49db590\",\"type\":\"BasicTickFormatter\"},\"plot\":{\"id\":\"a31a5b8f-92b1-41d3-8f4d-4b88549092c7\",\"subtype\":\"Figure\",\"type\":\"Plot\"},\"ticker\":{\"id\":\"4ba3618b-1b8b-4971-bd29-984f099b4f42\",\"type\":\"BasicTicker\"}},\"id\":\"a6a42b89-29fb-4484-bd25-392b35de9e15\",\"type\":\"LinearAxis\"},{\"attributes\":{\"dimension\":1,\"plot\":{\"id\":\"a31a5b8f-92b1-41d3-8f4d-4b88549092c7\",\"subtype\":\"Figure\",\"type\":\"Plot\"},\"ticker\":{\"id\":\"95aa7e23-1595-41d3-a3a5-794d8d4ae10f\",\"type\":\"BasicTicker\"}},\"id\":\"e5f7df0e-d026-4a31-a603-8bdb451595e3\",\"type\":\"Grid\"},{\"attributes\":{\"formatter\":{\"id\":\"987ea212-31b1-4077-b9a6-6c92b53812cd\",\"type\":\"BasicTickFormatter\"},\"plot\":{\"id\":\"a31a5b8f-92b1-41d3-8f4d-4b88549092c7\",\"subtype\":\"Figure\",\"type\":\"Plot\"},\"ticker\":{\"id\":\"95aa7e23-1595-41d3-a3a5-794d8d4ae10f\",\"type\":\"BasicTicker\"}},\"id\":\"1d8b1605-504e-4a54-a0ad-1cb3a01b105a\",\"type\":\"LinearAxis\"},{\"attributes\":{\"callback\":null,\"column_names\":[\"x2\",\"names\",\"x1\"],\"data\":{\"names\":[\"the\",\"of\",\"and\",\"in\",\"to\",\"a\",\"was\",\"s\",\"on\",\"as\",\"for\",\"that\",\"with\",\"by\",\"is\",\"his\",\"at\",\"he\",\"it\",\"from\",\"were\",\"an\",\"had\",\"which\",\"be\",\"this\",\"but\",\"first\",\"are\",\"not\",\"their\",\"after\",\"one\",\"her\",\"also\",\"its\",\"they\",\"two\",\"or\",\"have\",\"who\",\"been\",\"new\",\"has\",\"she\",\"when\",\"time\",\"during\",\"would\",\"other\",\"into\",\"all\",\"i\",\"more\",\"over\",\"while\",\"only\",\"him\",\"later\",\"game\",\"most\",\"up\",\"about\",\"three\",\"out\",\"between\",\"th\",\"than\",\"there\",\"some\",\"film\",\"may\",\"before\",\"year\",\"made\",\"no\",\"such\",\"second\",\"season\",\"where\",\"years\",\"war\",\"world\",\"then\",\"however\",\"these\",\"used\",\"song\",\"both\",\"through\",\"them\",\"being\",\"against\",\"series\",\"m\",\"many\",\"album\",\"team\",\"became\",\"city\",\"north\",\"united\",\"part\",\"number\",\"four\",\"several\",\"can\",\"including\",\"under\",\"well\",\"state\",\"early\",\"music\",\"south\",\"so\",\"day\",\"states\",\"said\",\"episode\",\"following\",\"american\",\"known\",\"although\",\"could\",\"work\",\"did\",\"began\",\"until\",\"called\",\"released\",\"because\",\"high\",\"like\",\"t\",\"people\",\"end\",\"around\",\"british\",\"since\",\"long\",\"national\",\"each\",\"life\",\"if\",\"same\",\"september\",\"million\",\"found\",\"best\",\"west\",\"us\",\"back\",\"five\",\"show\",\"another\",\"along\",\"took\",\"any\",\"km\",\"area\",\"you\",\"final\",\"use\",\"group\",\"century\",\"august\",\"off\",\"october\",\"received\",\"school\",\"what\",\"june\",\"line\",\"will\",\"due\",\"john\",\"government\",\"system\",\"march\",\"home\",\"east\",\"july\",\"single\",\"third\",\"november\",\"games\",\"general\",\"april\",\"set\",\"large\",\"left\",\"down\",\"house\",\"york\",\"much\",\"just\",\"based\",\"major\",\"we\",\"family\",\"place\",\"company\",\"december\",\"january\",\"history\",\"name\",\"army\",\"now\",\"road\",\"played\",\"wrote\",\"character\",\"six\",\"king\",\"included\",\"according\",\"band\",\"led\",\"times\",\"described\",\"main\",\"won\",\"men\",\"near\",\"d\",\"death\",\"air\",\"last\",\"own\",\"those\",\"river\",\"within\",\"named\",\"st\",\"next\",\"ship\",\"video\",\"battle\",\"release\",\"way\",\"still\",\"force\",\"de\",\"late\",\"original\",\"very\",\"great\",\"record\",\"league\",\"species\",\"make\",\"even\",\"man\",\"old\",\"top\",\"production\",\"club\",\"route\",\"public\",\"though\",\"february\",\"again\",\"small\",\"held\",\"built\",\"days\",\"u\",\"among\",\"division\",\"b\",\"side\",\"storm\",\"university\",\"service\",\"play\",\"book\",\"do\",\"members\",\"story\",\"french\",\"match\",\"further\",\"role\",\"white\",\"having\",\"german\",\"power\",\"point\",\"former\",\"often\",\"career\",\"order\",\"player\",\"black\",\"h\",\"park\",\"continued\",\"water\",\"came\",\"local\",\"without\",\"town\",\"england\",\"half\",\"party\",\"take\",\"considered\",\"support\",\"despite\",\"island\",\"development\",\"few\",\"period\",\"songs\",\"county\",\"moved\",\"written\",\"version\",\"become\",\"different\",\"forces\",\"form\",\"military\",\"c\",\"english\",\"country\",\"given\",\"court\",\"president\",\"lost\",\"london\",\"ii\",\"little\",\"international\",\"building\",\"tour\",\"similar\",\"tropical\",\"royal\",\"short\",\"my\",\"church\",\"performance\",\"published\",\"re\",\"attack\",\"n\",\"gave\",\"returned\",\"track\",\"lead\",\"using\",\"never\",\"position\",\"street\",\"went\",\"produced\",\"run\",\"television\",\"class\",\"aircraft\",\"good\",\"total\",\"recorded\",\"women\",\"land\",\"star\",\"live\",\"how\",\"ships\",\"stated\",\"control\",\"western\",\"per\",\"highway\",\"making\",\"children\",\"throughout\",\"include\",\"week\",\"father\",\"australia\",\"upon\",\"head\",\"fire\",\"less\",\"once\",\"characters\",\"love\",\"me\",\"right\",\"young\",\"players\",\"design\",\"writing\",\"away\",\"himself\",\"title\",\"political\",\"light\",\"r\",\"months\",\"age\",\"seven\",\"central\",\"eight\",\"died\",\"instead\",\"station\",\"rock\",\"night\",\"red\",\"ten\",\"e\",\"ft\",\"remained\",\"james\",\"southern\",\"across\",\"office\",\"too\",\"previous\",\"result\",\"sea\",\"return\",\"low\",\"reported\",\"felt\",\"center\",\"law\",\"various\",\"created\",\"style\",\"college\",\"race\",\"eventually\",\"together\",\"developed\",\"america\",\"areas\",\"son\",\"win\",\"followed\",\"japanese\",\"act\",\"miles\",\"reached\",\"noted\",\"field\",\"should\",\"hurricane\",\"construction\",\"announced\",\"award\",\"william\",\"sent\",\"range\",\"performed\",\"able\",\"member\",\"seen\",\"northern\",\"taken\",\"served\",\"killed\",\"campaign\",\"level\",\"established\",\"full\",\"action\",\"front\",\"originally\",\"success\",\"points\",\"common\",\"mm\",\"works\",\"special\",\"george\",\"thought\",\"others\",\"project\",\"chart\",\"australian\",\"body\",\"appeared\",\"born\",\"get\",\"present\",\"stage\",\"post\",\"fourth\",\"addition\",\"behind\",\"decided\",\"football\",\"o\",\"started\",\"rather\",\"site\",\"modern\",\"playing\",\"caused\",\"almost\",\"located\",\"features\",\"director\",\"command\",\"heavy\",\"critics\",\"feet\",\"bridge\",\"sold\",\"see\",\"go\",\"every\",\"popular\",\"fleet\",\"formed\",\"damage\",\"f\",\"close\",\"opened\",\"david\",\"important\",\"ground\",\"championship\",\"open\",\"coast\",\"free\",\"strong\",\"completed\",\"population\",\"guns\",\"initially\",\"added\",\"non\",\"art\",\"region\",\"kingdom\",\"saw\",\"soon\",\"awards\",\"eastern\",\"mi\",\"worked\",\"leading\",\"weeks\",\"sound\",\"towards\",\"michael\",\"france\",\"working\",\"case\",\"training\",\"hall\",\"scene\",\"placed\",\"scored\",\"mother\",\"average\",\"recording\",\"union\",\"wanted\",\"help\",\"least\",\"event\",\"provided\",\"brought\",\"l\",\"ever\",\"troops\",\"records\",\"victory\",\"either\",\"runs\",\"featured\",\"summer\",\"allowed\",\"hit\",\"does\",\"generally\",\"cup\",\"studio\",\"joined\",\"put\",\"example\",\"wife\",\"mid\",\"navy\",\"henry\",\"designed\",\"far\",\"list\",\"events\",\"japan\",\"magazine\",\"nine\",\"council\",\"washington\",\"europe\",\"base\",\"believed\",\"robert\",\"largest\",\"media\",\"co\",\"involved\",\"al\",\"official\",\"start\",\"highest\",\"human\",\"police\",\"society\",\"opening\",\"hours\",\"earlier\",\"squadron\",\"saying\",\"met\",\"crew\",\"replaced\",\"brown\",\"films\",\"rest\",\"x\",\"review\",\"radio\",\"association\",\"process\",\"successful\",\"research\",\"shot\",\"minutes\",\"operation\",\"month\",\"significant\",\"finished\",\"beginning\",\"possible\",\"taking\",\"better\",\"san\",\"captain\",\"particularly\",\"european\",\"big\",\"forced\",\"change\",\"real\",\"passed\",\"goal\",\"future\",\"section\",\"cast\",\"outside\",\"mph\",\"turned\",\"reviews\",\"test\",\"available\",\"come\",\"lower\",\"additional\",\"business\",\"charles\",\"community\",\"social\",\"praised\",\"chief\",\"increased\",\"hill\",\"thus\",\"ended\",\"space\",\"above\",\"units\",\"middle\",\"appearance\",\"cross\",\"going\",\"staff\",\"move\",\"enough\",\"thomas\",\"previously\",\"don\",\"rights\",\"canada\",\"elements\",\"relationship\",\"stone\",\"g\",\"california\",\"program\",\"news\",\"infantry\",\"gun\",\"district\",\"round\",\"must\",\"female\",\"interest\",\"directed\",\"committee\",\"find\",\"board\",\"told\",\"ordered\",\"winds\",\"parts\",\"overall\",\"lines\",\"musical\",\"paul\",\"lake\",\"room\",\"type\",\"grand\",\"signed\",\"germany\",\"spent\",\"evidence\",\"plan\",\"groups\",\"gold\",\"failed\",\"castle\",\"attempt\",\"entire\",\"critical\",\"positive\",\"whom\",\"give\",\"v\",\"itself\",\"port\",\"brother\",\"background\",\"personal\",\"claimed\",\"hand\",\"reception\",\"whose\",\"term\",\"india\",\"limited\",\"money\",\"election\",\"asked\",\"required\",\"score\",\"past\",\"study\",\"speed\",\"uk\",\"green\",\"cover\",\"governor\",\"ny\",\"battalion\",\"bill\",\"sometimes\",\"prior\",\"p\",\"already\",\"plot\",\"k\",\"idea\",\"indian\",\"issue\",\"shows\",\"person\",\"food\",\"turn\",\"loss\",\"students\",\"britain\",\"view\",\"education\",\"arrived\",\"press\",\"minister\",\"introduced\",\"effects\",\"complete\",\"our\",\"anti\",\"square\",\"flight\",\"especially\",\"decision\",\"mark\",\"queen\",\"episodes\",\"department\",\"village\",\"usually\",\"los\",\"fifth\",\"surface\",\"blue\",\"bay\",\"latter\",\"voice\",\"estimated\",\"operations\",\"stars\",\"novel\",\"smith\",\"pressure\",\"response\",\"peter\",\"structure\",\"approximately\",\"debut\",\"la\",\"material\",\"quickly\",\"movement\",\"commander\",\"woman\",\"civil\",\"length\",\"becoming\",\"teams\",\"changes\",\"suggested\",\"services\",\"carried\",\"might\",\"science\",\"report\",\"remaining\",\"leaving\",\"car\",\"earth\",\"living\",\"empire\",\"industry\",\"daughter\",\"entered\",\"influence\",\"nearly\",\"larger\",\"defeated\",\"language\",\"appointed\",\"date\",\"centre\",\"pop\",\"upper\",\"dark\",\"size\",\"cut\",\"virginia\",\"today\",\"scenes\",\"running\",\"experience\",\"commercial\",\"depression\",\"god\",\"current\",\"wide\",\"islands\",\"shortly\",\"winning\",\"network\",\"child\",\"leader\",\"railway\",\"finally\",\"immediately\",\"course\",\"married\",\"tracks\",\"provide\",\"richard\",\"agreed\",\"spanish\",\"naval\",\"producer\",\"hot\",\"fans\",\"writer\",\"percent\",\"buildings\",\"subsequently\",\"compared\",\"self\",\"changed\",\"officer\",\"fact\",\"planned\",\"proposed\",\"higher\",\"related\",\"soviet\",\"initial\",\"cost\",\"associated\",\"destroyed\",\"chicago\",\"museum\",\"awarded\",\"officers\",\"corps\",\"longer\",\"face\",\"guitar\",\"supported\",\"chinese\",\"regular\",\"yet\",\"professional\",\"nature\",\"intended\",\"lack\",\"federal\",\"nd\",\"trade\",\"probably\",\"natural\",\"whether\",\"singles\",\"feature\",\"helped\",\"brigade\",\"remains\",\"copies\",\"ball\",\"difficult\",\"moving\",\"fort\",\"plans\",\"private\",\"captured\",\"contract\",\"done\",\"jackson\",\"themselves\",\"cause\",\"billboard\",\"health\",\"friend\",\"pacific\",\"mixed\",\"extended\",\"forward\",\"countries\",\"manager\",\"your\",\"mostly\",\"friends\",\"books\",\"status\",\"soldiers\",\"key\",\"christian\",\"really\",\"lord\",\"energy\",\"cm\",\"something\",\"effect\",\"create\",\"location\",\"edition\",\"florida\",\"information\",\"pass\",\"appear\",\"edward\",\"via\",\"johnson\",\"know\",\"always\",\"fight\",\"lyrics\",\"regiment\",\"offered\",\"daily\",\"singer\",\"unit\",\"atlantic\",\"numerous\",\"wind\",\"poor\",\"dead\",\"here\",\"dance\",\"got\",\"tons\",\"leave\",\"keep\",\"likely\",\"valley\",\"suffered\"],\"x1\":{\"__ndarray__\":\"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\",\"dtype\":\"float64\",\"shape\":[1000]},\"x2\":{\"__ndarray__\":\"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\",\"dtype\":\"float64\",\"shape\":[1000]}}},\"id\":\"7edf5859-f8cd-4016-a651-36fcc9eeb6bc\",\"type\":\"ColumnDataSource\"},{\"attributes\":{\"below\":[{\"id\":\"a6a42b89-29fb-4484-bd25-392b35de9e15\",\"type\":\"LinearAxis\"}],\"left\":[{\"id\":\"1d8b1605-504e-4a54-a0ad-1cb3a01b105a\",\"type\":\"LinearAxis\"}],\"renderers\":[{\"id\":\"a6a42b89-29fb-4484-bd25-392b35de9e15\",\"type\":\"LinearAxis\"},{\"id\":\"7547e687-a904-4588-a832-fb46369b9e8f\",\"type\":\"Grid\"},{\"id\":\"1d8b1605-504e-4a54-a0ad-1cb3a01b105a\",\"type\":\"LinearAxis\"},{\"id\":\"e5f7df0e-d026-4a31-a603-8bdb451595e3\",\"type\":\"Grid\"},{\"id\":\"845d3793-118b-4597-8764-d97fcd53270b\",\"type\":\"GlyphRenderer\"},{\"id\":\"9361c07c-b5f6-4f21-b793-0db0b1bdc7aa\",\"type\":\"LabelSet\"}],\"title\":{\"id\":\"b256e502-3c2c-4cda-b70b-97d26a4098ca\",\"type\":\"Title\"},\"tool_events\":{\"id\":\"c4664d0e-3fe3-4dd0-9292-52047ce7d06c\",\"type\":\"ToolEvents\"},\"toolbar\":{\"id\":\"435dfd0b-43c3-4cc1-b365-ac295b6539de\",\"type\":\"Toolbar\"},\"toolbar_location\":\"above\",\"x_range\":{\"id\":\"e2f902da-e5a0-4b0e-beb5-e02db686243c\",\"type\":\"DataRange1d\"},\"y_range\":{\"id\":\"64ede18a-24f7-499f-82fd-6a4a1410d868\",\"type\":\"DataRange1d\"}},\"id\":\"a31a5b8f-92b1-41d3-8f4d-4b88549092c7\",\"subtype\":\"Figure\",\"type\":\"Plot\"},{\"attributes\":{},\"id\":\"95aa7e23-1595-41d3-a3a5-794d8d4ae10f\",\"type\":\"BasicTicker\"},{\"attributes\":{\"plot\":{\"id\":\"a31a5b8f-92b1-41d3-8f4d-4b88549092c7\",\"subtype\":\"Figure\",\"type\":\"Plot\"}},\"id\":\"73c0eaac-ae1b-4e86-99f9-55a42ff34541\",\"type\":\"SaveTool\"},{\"attributes\":{\"plot\":{\"id\":\"a31a5b8f-92b1-41d3-8f4d-4b88549092c7\",\"subtype\":\"Figure\",\"type\":\"Plot\"}},\"id\":\"2bf89f9c-2a27-4d72-8f3e-e93d8d2f559e\",\"type\":\"PanTool\"},{\"attributes\":{\"plot\":{\"id\":\"a31a5b8f-92b1-41d3-8f4d-4b88549092c7\",\"subtype\":\"Figure\",\"type\":\"Plot\"},\"ticker\":{\"id\":\"4ba3618b-1b8b-4971-bd29-984f099b4f42\",\"type\":\"BasicTicker\"}},\"id\":\"7547e687-a904-4588-a832-fb46369b9e8f\",\"type\":\"Grid\"},{\"attributes\":{\"callback\":null},\"id\":\"e2f902da-e5a0-4b0e-beb5-e02db686243c\",\"type\":\"DataRange1d\"}],\"root_ids\":[\"a31a5b8f-92b1-41d3-8f4d-4b88549092c7\"]},\"title\":\"Bokeh Application\",\"version\":\"0.12.4\"}};\n",
       "            var render_items = [{\"docid\":\"1b11f5bb-d9b7-4c11-be04-ce94459cc7ea\",\"elementid\":\"54f06bab-e703-4214-a7a7-ebeb65119b72\",\"modelid\":\"a31a5b8f-92b1-41d3-8f4d-4b88549092c7\"}];\n",
       "            \n",
       "            Bokeh.embed.embed_items(docs_json, render_items);\n",
       "          };\n",
       "          if (document.readyState != \"loading\") fn();\n",
       "          else document.addEventListener(\"DOMContentLoaded\", fn);\n",
       "        })();\n",
       "      },\n",
       "      function(Bokeh) {\n",
       "      }\n",
       "    ];\n",
       "  \n",
       "    function run_inline_js() {\n",
       "      \n",
       "      if ((window.Bokeh !== undefined) || (force === true)) {\n",
       "        for (var i = 0; i < inline_js.length; i++) {\n",
       "          inline_js[i](window.Bokeh);\n",
       "        }if (force === true) {\n",
       "          display_loaded();\n",
       "        }} else if (Date.now() < window._bokeh_timeout) {\n",
       "        setTimeout(run_inline_js, 100);\n",
       "      } else if (!window._bokeh_failed_load) {\n",
       "        console.log(\"Bokeh: BokehJS failed to load within specified timeout.\");\n",
       "        window._bokeh_failed_load = true;\n",
       "      } else if (force !== true) {\n",
       "        var cell = $(document.getElementById(\"54f06bab-e703-4214-a7a7-ebeb65119b72\")).parents('.cell').data().cell;\n",
       "        cell.output_area.append_execute_result(NB_LOAD_WARNING)\n",
       "      }\n",
       "  \n",
       "    }\n",
       "  \n",
       "    if (window._bokeh_is_loading === 0) {\n",
       "      console.log(\"Bokeh: BokehJS loaded, going straight to plotting\");\n",
       "      run_inline_js();\n",
       "    } else {\n",
       "      load_libs(js_urls, function() {\n",
       "        console.log(\"Bokeh: BokehJS plotting callback run at\", now());\n",
       "        run_inline_js();\n",
       "      });\n",
       "    }\n",
       "  }(this));\n",
       "</script>"
      ]
     },
     "metadata": {},
     "output_type": "display_data"
    }
   ],
   "source": [
    "p = figure(tools=\"pan,wheel_zoom,reset,save\",\n",
    "           toolbar_location=\"above\",\n",
    "           title=\"word2vec T-SNE for most common words\")\n",
    "\n",
    "source = ColumnDataSource(data=dict(x1=words_top_wiki_tsne[:,0],\n",
    "                                    x2=words_top_wiki_tsne[:,1],\n",
    "                                    names=words_top_wiki))\n",
    "\n",
    "p.scatter(x=\"x1\", y=\"x2\", size=8, source=source)\n",
    "\n",
    "labels = LabelSet(x=\"x1\", y=\"x2\", text=\"names\", y_offset=6,\n",
    "                  text_font_size=\"8pt\", text_color=\"#555555\",\n",
    "                  source=source, text_align='center')\n",
    "p.add_layout(labels)\n",
    "\n",
    "show(p)"
   ]
  }
 ],
 "metadata": {
  "anaconda-cloud": {},
  "kernelspec": {
   "display_name": "Python 3",
   "language": "python",
   "name": "python3"
  },
  "language_info": {
   "codemirror_mode": {
    "name": "ipython",
    "version": 3
   },
   "file_extension": ".py",
   "mimetype": "text/x-python",
   "name": "python",
   "nbconvert_exporter": "python",
   "pygments_lexer": "ipython3",
   "version": "3.5.2"
  }
 },
 "nbformat": 4,
 "nbformat_minor": 0
}
